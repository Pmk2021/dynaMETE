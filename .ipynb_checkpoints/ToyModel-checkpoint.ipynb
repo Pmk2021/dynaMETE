{
 "cells": [
  {
   "cell_type": "code",
   "execution_count": 1,
   "id": "1601cf32",
   "metadata": {},
   "outputs": [
    {
     "name": "stderr",
     "output_type": "stream",
     "text": [
      "C:\\Users\\Pranav\\anaconda3\\lib\\site-packages\\scipy\\__init__.py:138: UserWarning: A NumPy version >=1.16.5 and <1.23.0 is required for this version of SciPy (detected version 1.23.4)\n",
      "  warnings.warn(f\"A NumPy version >={np_minversion} and <{np_maxversion} is required for this version of \"\n"
     ]
    }
   ],
   "source": [
    "import numpy as np\n",
    "import pandas as pd\n",
    "import lambda_dynamics_ToyModel as ld\n",
    "from importlib import reload\n",
    "reload(ld)\n",
    "import DynaMETE_Rfunctions_ToyModel as rf\n",
    "import matplotlib.pyplot as plt\n",
    "import brute_force_ToyModel as bf\n",
    "reload(bf)\n",
    "%matplotlib inline"
   ]
  },
  {
   "cell_type": "code",
   "execution_count": 17,
   "id": "ceb7c9fd",
   "metadata": {},
   "outputs": [
    {
     "name": "stdout",
     "output_type": "stream",
     "text": [
      "Non exact parameters\n"
     ]
    },
    {
     "data": {
      "text/plain": [
       "b0       0.059\n",
       "d0       0.001\n",
       "Nc    1000.000\n",
       "Sc      50.000\n",
       "dtype: float64"
      ]
     },
     "metadata": {},
     "output_type": "display_data"
    },
    {
     "data": {
      "text/plain": [
       "dS    0.000000e+00\n",
       "dN   -2.216912e-15\n",
       "dtype: float64"
      ]
     },
     "metadata": {},
     "output_type": "display_data"
    },
    {
     "name": "stdout",
     "output_type": "stream",
     "text": [
      "Exact parameters\n"
     ]
    },
    {
     "data": {
      "text/plain": [
       "b0       0.059\n",
       "d0       0.001\n",
       "Nc    1000.000\n",
       "Sc      50.000\n",
       "dtype: float64"
      ]
     },
     "metadata": {},
     "output_type": "display_data"
    },
    {
     "data": {
      "text/plain": [
       "dS    0.000000e+00\n",
       "dN    1.582361e-15\n",
       "dtype: float64"
      ]
     },
     "metadata": {},
     "output_type": "display_data"
    }
   ],
   "source": [
    "# Set up unperturbed parameters\n",
    "\n",
    "# state variables\n",
    "s = pd.Series(np.array([50, 1000]), index=['S','N']) #'S' = array.item(0), 'N' is array.item(1)\n",
    "\n",
    "# parameters. We will derive the precise ones below\n",
    "p_d = np.array([0.059,0.001, s['N'], s['S']]) #s['N'] gives us array.item(1) (array is the first argument to pd.Series)\n",
    "p = pd.Series(p_d,index=['b0','d0','Nc', 'Sc']) #to assign the birth rate, unperturbed death rate, and carrying capacity\n",
    "\n",
    "# To get precise parameters\n",
    "pp = ld.get_ss_params(s,p)\n",
    "\n",
    "# Initial lambdas\n",
    "li = rf.lambda_i(s)\n",
    "# Display parameters and show derivatives are close enough to zero. (-900/2.5*10^5 is still small)\n",
    "print(\"Non exact parameters\")\n",
    "display(p)\n",
    "display(rf.get_dXdt(li,s,p))\n",
    "print(\"Exact parameters\")\n",
    "display(pp)\n",
    "display(rf.get_dXdt(li,s,pp))"
   ]
  },
  {
   "cell_type": "code",
   "execution_count": 18,
   "id": "dd8f44c4",
   "metadata": {},
   "outputs": [],
   "source": [
    "import brute_force_ToyModel as bf\n",
    "reload(bf)\n",
    "import brute_force_ToyModel as bf\n",
    "import DynaMETE_Rfunctions_ToyModel as rf\n",
    "reload(rf)\n",
    "import DynaMETE_Rfunctions_ToyModel as rf\n",
    "import lambda_dynamics_ToyModel as ld\n",
    "from importlib import reload\n",
    "reload(ld)\n",
    "\n",
    "#Brute Force\n",
    "def o_(l, s, p, dt=0.015):\n",
    "    ret = []\n",
    "    lam = []\n",
    "    ds = np.array([])\n",
    "    counter = 0\n",
    "    c = 0\n",
    "    p['d0'] = l[0]\n",
    "    prev_d = l[0]\n",
    "    for i in l:\n",
    "        d_d = prev_d - i\n",
    "        prev_d = i\n",
    "        counter = 0\n",
    "        if(len(ret) > 0):\n",
    "            print(ret[-1])\n",
    "        for j in range(100):\n",
    "            c += 1\n",
    "            p['d0'] = i\n",
    "            if(counter > 0):\n",
    "                l_d0,s_d0,ds_d0 = bf.iterate(1,s,p, verbose = False, dt=dt, l0 = last_lambda, ds0 = last_d0)\n",
    "            else:\n",
    "                l_d0,s_d0,ds_d0 = bf.iterate(1,s,p, verbose = False, dt=dt)\n",
    "            s = s_d0.iloc[-1]\n",
    "            ret += list(s_d0['N'][1:])\n",
    "      \n",
    "            lam += list(l_d0[1:])\n",
    "            last_lambda = l_d0[-1]\n",
    "\n",
    "            last_d0 = ds_d0.iloc[-1]\n",
    "            ds = np.append(ds, np.array(ds_d0['dN'][1:]))\n",
    "            counter += 1\n",
    "    \n",
    "    \n",
    "    \n",
    "    return ret,lam, ds\n",
    "        \n",
    "        "
   ]
  },
  {
   "cell_type": "code",
   "execution_count": 19,
   "id": "bc203dd8",
   "metadata": {},
   "outputs": [],
   "source": [
    "import brute_force_ToyModel as bf\n",
    "reload(bf)\n",
    "import brute_force_ToyModel as bf\n",
    "import DynaMETE_Rfunctions_ToyModel as rf\n",
    "reload(rf)\n",
    "import DynaMETE_Rfunctions_ToyModel as rf\n",
    "import lambda_dynamics_ToyModel as ld\n",
    "from importlib import reload\n",
    "reload(ld)\n",
    "\n",
    "#lambda\n",
    "\n",
    "def o(l, s, p, time, dt=0.015):\n",
    "    ret = []\n",
    "    lam = []\n",
    "    ds = np.array([])\n",
    "    counter = 0\n",
    "    c = 0\n",
    "    p['d0'] = l[0]\n",
    "    prev_d = l[0]\n",
    "    for i in l:\n",
    "        d_d = prev_d - i\n",
    "        prev_d = i\n",
    "        counter = 0\n",
    "        if(len(ret) > 0):\n",
    "            print(ret[-1])\n",
    "        for j in range(1):\n",
    "            c += 1\n",
    "            p['d0'] = i\n",
    "            if(counter > 0):\n",
    "                l_d0,s_d0,ds_d0 = ld.iterate(time[counter],s,p, verbose = False, dt=dt, l = last_lambda, ds = last_d0)\n",
    "            else:\n",
    "                l_d0,s_d0,ds_d0 = ld.iterate(time[counter],s,p, verbose = False, dt=dt, d_d = d_d)\n",
    "            s = s_d0.iloc[-1]\n",
    "            ret += list(s_d0['N'][1:])\n",
    "      \n",
    "            lam += list(l_d0[1:])\n",
    "            last_lambda = l_d0[-1]\n",
    "\n",
    "            last_d0 = ds_d0.iloc[-1]\n",
    "            ds = np.append(ds, np.array(ds_d0['dN'][1:]))\n",
    "        counter += 1\n",
    "    \n",
    "    \n",
    "    \n",
    "    return ret,lam, ds\n",
    "        "
   ]
  },
  {
   "cell_type": "code",
   "execution_count": 20,
   "id": "7439acf5",
   "metadata": {},
   "outputs": [
    {
     "name": "stdout",
     "output_type": "stream",
     "text": [
      "1000.0\n",
      "1000.0\n",
      "1000.0\n"
     ]
    },
    {
     "data": {
      "image/png": "[encoded data removed]",
      "text/plain": [
       "<Figure size 432x288 with 1 Axes>"
      ]
     },
     "metadata": {
      "needs_background": "light"
     },
     "output_type": "display_data"
    },
    {
     "data": {
      "text/plain": [
       "<matplotlib.collections.PathCollection at 0x215fdb7bfd0>"
      ]
     },
     "execution_count": 20,
     "metadata": {},
     "output_type": "execute_result"
    },
    {
     "data": {
      "image/png": "[encoded data removed]",
      "text/plain": [
       "<Figure size 432x288 with 1 Axes>"
      ]
     },
     "metadata": {
      "needs_background": "light"
     },
     "output_type": "display_data"
    }
   ],
   "source": [
    "#Change Death Rate\n",
    "#[0.00009,7.142857142857143e-05,0.00009,7.142857142857143e-05,0.00009,7.142857142857143e-05]\n",
    "#Change d0. \n",
    "times = [10,10]\n",
    "a_,b_, c_ = o([0.001, 0.001], s, pp, times, dt=0.1)\n",
    "plt.plot(a_)\n",
    "plt.show()\n",
    "plt.scatter([i for i in range(len(b_))],[i[1] for i in b_])\n",
    "#2 minutes"
   ]
  },
  {
   "cell_type": "code",
   "execution_count": 244,
   "id": "23d27552",
   "metadata": {},
   "outputs": [
    {
     "name": "stdout",
     "output_type": "stream",
     "text": [
      "989.6778693249407\n",
      "1052.4222073681376\n",
      "1011.4300563995974\n",
      "1065.9500878114286\n",
      "1016.4635654865248\n",
      "1069.0049190628367\n"
     ]
    },
    {
     "data": {
      "image/png": "[encoded data removed]",
      "text/plain": [
       "<Figure size 432x288 with 1 Axes>"
      ]
     },
     "metadata": {
      "needs_background": "light"
     },
     "output_type": "display_data"
    },
    {
     "data": {
      "text/plain": [
       "<matplotlib.collections.PathCollection at 0x18c9fe634f0>"
      ]
     },
     "execution_count": 244,
     "metadata": {},
     "output_type": "execute_result"
    },
    {
     "data": {
      "image/png": "[encoded data removed]",
      "text/plain": [
       "<Figure size 432x288 with 1 Axes>"
      ]
     },
     "metadata": {
      "needs_background": "light"
     },
     "output_type": "display_data"
    }
   ],
   "source": [
    "#Change Death Rate\n",
    "#[0.00009,7.142857142857143e-05,0.00009,7.142857142857143e-05,0.00009,7.142857142857143e-05]\n",
    "#Change d0. \n",
    "a_,b_, c_ = o([0.0008, 0.0006, 0.00080, 0.0006, 0.0008, 0.0006, 0.0008], s, pp, dt=0.1)\n",
    "plt.plot(a_)\n",
    "plt.show()\n",
    "plt.scatter([i for i in range(len(b_))],[i[1] for i in b_])\n",
    "#2 minutes"
   ]
  },
  {
   "cell_type": "code",
   "execution_count": 236,
   "id": "41adfd73",
   "metadata": {},
   "outputs": [
    {
     "name": "stdout",
     "output_type": "stream",
     "text": [
      "989.6906335015848\n",
      "1052.5222147036643\n",
      "1011.7557509540619\n",
      "1066.2481447143264\n",
      "1017.1634793081033\n",
      "1069.526323540446\n"
     ]
    },
    {
     "data": {
      "image/png": "[encoded data removed]",
      "text/plain": [
       "<Figure size 432x288 with 1 Axes>"
      ]
     },
     "metadata": {
      "needs_background": "light"
     },
     "output_type": "display_data"
    },
    {
     "data": {
      "text/plain": [
       "<matplotlib.collections.PathCollection at 0x18ca1665d90>"
      ]
     },
     "execution_count": 236,
     "metadata": {},
     "output_type": "execute_result"
    },
    {
     "data": {
      "image/png": "[encoded data removed]",
      "text/plain": [
       "<Figure size 432x288 with 1 Axes>"
      ]
     },
     "metadata": {
      "needs_background": "light"
     },
     "output_type": "display_data"
    }
   ],
   "source": [
    "#Change Death Rate\n",
    "#[0.00009,7.142857142857143e-05,0.00009,7.142857142857143e-05,0.00009,7.142857142857143e-05]\n",
    "#Change d0. \n",
    "a_1,b_1, c_1 = o_([0.0008, 0.0006, 0.00080, 0.0006, 0.0008, 0.0006, 0.0008], s, pp, dt=0.1)\n",
    "plt.plot(a_1)\n",
    "plt.show()\n",
    "plt.scatter([i for i in range(len(b_1))],[i[1] for i in b_1])\n",
    "#2 minutes"
   ]
  },
  {
   "cell_type": "code",
   "execution_count": 195,
   "id": "c744598c",
   "metadata": {},
   "outputs": [
    {
     "data": {
      "text/plain": [
       "array([5.39994107e-05, 1.10589364e-03])"
      ]
     },
     "execution_count": 195,
     "metadata": {},
     "output_type": "execute_result"
    }
   ],
   "source": [
    "(b_1[99] - b_1[100])"
   ]
  },
  {
   "cell_type": "code",
   "execution_count": 150,
   "id": "f948454a",
   "metadata": {},
   "outputs": [
    {
     "data": {
      "text/plain": [
       "[<matplotlib.lines.Line2D at 0x18c9d0f2c40>]"
      ]
     },
     "execution_count": 150,
     "metadata": {},
     "output_type": "execute_result"
    },
    {
     "data": {
      "image/png": "[encoded data removed]",
      "text/plain": [
       "<Figure size 432x288 with 1 Axes>"
      ]
     },
     "metadata": {
      "needs_background": "light"
     },
     "output_type": "display_data"
    }
   ],
   "source": [
    "#Change d0. \n",
    "a_,b_, c_ = o_([0.6/780, 0.0006, 0.6/780], s, pp, dt=0.1)\n",
    "plt.plot(a_)"
   ]
  },
  {
   "cell_type": "code",
   "execution_count": 40,
   "id": "0f3a0711",
   "metadata": {},
   "outputs": [
    {
     "data": {
      "text/plain": [
       "[<matplotlib.lines.Line2D at 0x176649112b0>]"
      ]
     },
     "execution_count": 40,
     "metadata": {},
     "output_type": "execute_result"
    },
    {
     "data": {
      "image/png": "[encoded data removed]",
      "text/plain": [
       "<Figure size 432x288 with 1 Axes>"
      ]
     },
     "metadata": {
      "needs_background": "light"
     },
     "output_type": "display_data"
    }
   ],
   "source": [
    "a__,b_, c_ = o([0.6/780+0.0000001], s, pp, dt=0.01)\n",
    "plt.plot(a_)"
   ]
  },
  {
   "cell_type": "code",
   "execution_count": 34,
   "id": "d23e46b3",
   "metadata": {},
   "outputs": [
    {
     "data": {
      "text/plain": [
       "[<matplotlib.lines.Line2D at 0x17664722040>]"
      ]
     },
     "execution_count": 34,
     "metadata": {},
     "output_type": "execute_result"
    },
    {
     "data": {
      "image/png": "[encoded data removed]",
      "text/plain": [
       "<Figure size 432x288 with 1 Axes>"
      ]
     },
     "metadata": {
      "needs_background": "light"
     },
     "output_type": "display_data"
    }
   ],
   "source": [
    "plt.plot(a_)\n",
    "plt.plot(a__)"
   ]
  },
  {
   "cell_type": "code",
   "execution_count": 18,
   "id": "f3801543",
   "metadata": {},
   "outputs": [
    {
     "ename": "NameError",
     "evalue": "name 'last_lambda' is not defined",
     "output_type": "error",
     "traceback": [
      "\u001b[1;31m---------------------------------------------------------------------------\u001b[0m",
      "\u001b[1;31mNameError\u001b[0m                                 Traceback (most recent call last)",
      "\u001b[1;32m<ipython-input-18-60ee2a1ae0a3>\u001b[0m in \u001b[0;36m<module>\u001b[1;34m\u001b[0m\n\u001b[1;32m----> 1\u001b[1;33m \u001b[0mrf\u001b[0m\u001b[1;33m.\u001b[0m\u001b[0mR\u001b[0m\u001b[1;33m(\u001b[0m\u001b[1;36m1001\u001b[0m\u001b[1;33m,\u001b[0m \u001b[0mlast_lambda\u001b[0m\u001b[1;33m,\u001b[0m \u001b[0ms\u001b[0m\u001b[1;33m,\u001b[0m \u001b[0mp\u001b[0m\u001b[1;33m)\u001b[0m\u001b[1;33m\u001b[0m\u001b[1;33m\u001b[0m\u001b[0m\n\u001b[0m",
      "\u001b[1;31mNameError\u001b[0m: name 'last_lambda' is not defined"
     ]
    }
   ],
   "source": [
    "rf.R(1001, last_lambda, s, p)"
   ]
  },
  {
   "cell_type": "code",
   "execution_count": 182,
   "id": "4febb887",
   "metadata": {},
   "outputs": [
    {
     "data": {
      "text/plain": [
       "[<matplotlib.lines.Line2D at 0x28c4c9dd640>]"
      ]
     },
     "execution_count": 182,
     "metadata": {},
     "output_type": "execute_result"
    },
    {
     "data": {
      "image/png": "[encoded data removed]",
      "text/plain": [
       "<Figure size 432x288 with 1 Axes>"
      ]
     },
     "metadata": {
      "needs_background": "light"
     },
     "output_type": "display_data"
    }
   ],
   "source": [
    "#Change Death Rate\n",
    "#[0.00009,7.142857142857143e-05,0.00009,7.142857142857143e-05,0.00009,7.142857142857143e-05]\n",
    "#Change d0. \n",
    "a1_,b1_, c1_ = o([0.6/780,0.6/780 + 0.00003] , s, pp, dt=0.1)\n",
    "plt.plot(a_)\n",
    "\n",
    "#2 minutes"
   ]
  },
  {
   "cell_type": "code",
   "execution_count": 186,
   "id": "5a1c232e",
   "metadata": {
    "scrolled": true
   },
   "outputs": [
    {
     "data": {
      "text/plain": [
       "991.8021177683606"
      ]
     },
     "execution_count": 186,
     "metadata": {},
     "output_type": "execute_result"
    }
   ],
   "source": [
    "a_[79 + 1500]"
   ]
  },
  {
   "cell_type": "code",
   "execution_count": 184,
   "id": "b0622563",
   "metadata": {},
   "outputs": [
    {
     "data": {
      "text/plain": [
       "991.730443054977"
      ]
     },
     "execution_count": 184,
     "metadata": {},
     "output_type": "execute_result"
    }
   ],
   "source": [
    "a1_[2299]"
   ]
  },
  {
   "cell_type": "code",
   "execution_count": 124,
   "id": "04316f5a",
   "metadata": {},
   "outputs": [
    {
     "data": {
      "text/plain": [
       "[<matplotlib.lines.Line2D at 0x28c4b1fba00>]"
      ]
     },
     "execution_count": 124,
     "metadata": {},
     "output_type": "execute_result"
    },
    {
     "data": {
      "image/png": "[encoded data removed]",
      "text/plain": [
       "<Figure size 432x288 with 1 Axes>"
      ]
     },
     "metadata": {
      "needs_background": "light"
     },
     "output_type": "display_data"
    }
   ],
   "source": [
    "#Change Death Rate\n",
    "#[0.00009,7.142857142857143e-05,0.00009,7.142857142857143e-05,0.00009,7.142857142857143e-05]\n",
    "#Change d0. \n",
    "a_,b_, c_ = o_(l, s, pp, dt=0.1)\n",
    "plt.plot(a_[10:])\n",
    "\n",
    "#2 minutes"
   ]
  },
  {
   "cell_type": "code",
   "execution_count": 150,
   "id": "48116f0c",
   "metadata": {},
   "outputs": [
    {
     "data": {
      "text/plain": [
       "[<matplotlib.lines.Line2D at 0x28c4c56dd00>]"
      ]
     },
     "execution_count": 150,
     "metadata": {},
     "output_type": "execute_result"
    },
    {
     "data": {
      "image/png": "[encoded data removed]",
      "text/plain": [
       "<Figure size 432x288 with 1 Axes>"
      ]
     },
     "metadata": {
      "needs_background": "light"
     },
     "output_type": "display_data"
    }
   ],
   "source": [
    "plt.plot(a_[10:110])"
   ]
  },
  {
   "cell_type": "code",
   "execution_count": 149,
   "id": "fc5305cd",
   "metadata": {},
   "outputs": [
    {
     "data": {
      "text/plain": [
       "array([ 0.05124112, -0.00157054])"
      ]
     },
     "execution_count": 149,
     "metadata": {},
     "output_type": "execute_result"
    }
   ],
   "source": [
    "b_[10:][99]"
   ]
  },
  {
   "cell_type": "code",
   "execution_count": 147,
   "id": "aab6ca4b",
   "metadata": {},
   "outputs": [
    {
     "data": {
      "text/plain": [
       "1.204625846679869"
      ]
     },
     "execution_count": 147,
     "metadata": {},
     "output_type": "execute_result"
    }
   ],
   "source": [
    "c_[10:][11]"
   ]
  },
  {
   "cell_type": "code",
   "execution_count": 148,
   "id": "751c6bb6",
   "metadata": {},
   "outputs": [
    {
     "data": {
      "text/plain": [
       "1000.1449859480057"
      ]
     },
     "execution_count": 148,
     "metadata": {},
     "output_type": "execute_result"
    }
   ],
   "source": [
    "a_[10:][99]"
   ]
  },
  {
   "cell_type": "code",
   "execution_count": 23,
   "id": "6cea4898",
   "metadata": {},
   "outputs": [
    {
     "name": "stdout",
     "output_type": "stream",
     "text": [
      "[ 0.05291808 -0.0109073 ]\n",
      "965.4047552889541\n",
      "3.1809742705603306\n"
     ]
    }
   ],
   "source": [
    "n = 800\n",
    "\n",
    "\n",
    "print(b_[9+n])\n",
    "print(a_[9+n])\n",
    "print(c_[9+n])"
   ]
  },
  {
   "cell_type": "code",
   "execution_count": 18,
   "id": "9499fff4",
   "metadata": {},
   "outputs": [
    {
     "data": {
      "text/plain": [
       "[<matplotlib.lines.Line2D at 0x238d21767f0>]"
      ]
     },
     "execution_count": 18,
     "metadata": {},
     "output_type": "execute_result"
    },
    {
     "data": {
      "image/png": "[encoded data removed]",
      "text/plain": [
       "<Figure size 432x288 with 1 Axes>"
      ]
     },
     "metadata": {
      "needs_background": "light"
     },
     "output_type": "display_data"
    }
   ],
   "source": [
    "plt.plot(a_[10:])"
   ]
  },
  {
   "cell_type": "code",
   "execution_count": 13,
   "id": "3435283a",
   "metadata": {},
   "outputs": [
    {
     "data": {
      "text/plain": [
       "[<matplotlib.lines.Line2D at 0x238d205ed30>]"
      ]
     },
     "execution_count": 13,
     "metadata": {},
     "output_type": "execute_result"
    },
    {
     "data": {
      "image/png": "[encoded data removed]",
      "text/plain": [
       "<Figure size 432x288 with 1 Axes>"
      ]
     },
     "metadata": {
      "needs_background": "light"
     },
     "output_type": "display_data"
    }
   ],
   "source": [
    "#Change Death Rate\n",
    "#[0.00009,7.142857142857143e-05,0.00009,7.142857142857143e-05,0.00009,7.142857142857143e-05]\n",
    "#Change d0. \n",
    "a_,b_, c_ = o(l, s, pp,dt=0.1)\n",
    "plt.plot(a_)\n",
    "\n",
    "#2 minutes"
   ]
  },
  {
   "cell_type": "code",
   "execution_count": 186,
   "id": "469cbfd9",
   "metadata": {},
   "outputs": [
    {
     "data": {
      "text/plain": [
       "810"
      ]
     },
     "execution_count": 186,
     "metadata": {},
     "output_type": "execute_result"
    }
   ],
   "source": [
    "len(a"
   ]
  },
  {
   "cell_type": "code",
   "execution_count": null,
   "id": "4c9ea11a",
   "metadata": {},
   "outputs": [],
   "source": []
  },
  {
   "cell_type": "code",
   "execution_count": 15,
   "id": "056e58ac",
   "metadata": {},
   "outputs": [
    {
     "name": "stderr",
     "output_type": "stream",
     "text": [
      "C:\\Users\\Pranav\\Desktop\\Harte\\Dynamete Code\\DynaMETE_Rfunctions_ToyModel.py:48: RuntimeWarning: overflow encountered in exp\n",
      "  return np.exp(-l[0]*n-l[1]*f(n,s,p))\n",
      "C:\\Users\\Pranav\\Desktop\\Harte\\Dynamete Code\\DynaMETE_Rfunctions_ToyModel.py:78: RuntimeWarning: overflow encountered in multiply\n",
      "  ff = np.sum(nrange**np.sum(npow)*R(nrange,l,s,p))/z\n",
      "C:\\Users\\Pranav\\Desktop\\Harte\\Dynamete Code\\DynaMETE_Rfunctions_ToyModel.py:82: RuntimeWarning: overflow encountered in multiply\n",
      "  f1f2 *= np.sum(nrange**nn*R(nrange,l,s,p))/z\n",
      "C:\\Users\\Pranav\\Desktop\\Harte\\Dynamete Code\\DynaMETE_Rfunctions_ToyModel.py:132: RuntimeWarning: overflow encountered in multiply\n",
      "  ffeint = R(nrange,l,s,p)*func1(nrange,s,p,*args)*func2(nrange,s,p,*args)\n",
      "C:\\Users\\Pranav\\Desktop\\Harte\\Dynamete Code\\DynaMETE_Rfunctions_ToyModel.py:137: RuntimeWarning: overflow encountered in multiply\n",
      "  feint = R(nrange,l,s,p)*func(nrange,s,p,*args)\n"
     ]
    },
    {
     "ename": "ValueError",
     "evalue": "array must not contain infs or NaNs",
     "output_type": "error",
     "traceback": [
      "\u001b[1;31m---------------------------------------------------------------------------\u001b[0m",
      "\u001b[1;31mValueError\u001b[0m                                Traceback (most recent call last)",
      "\u001b[1;32m<ipython-input-15-038866ca0dad>\u001b[0m in \u001b[0;36m<module>\u001b[1;34m\u001b[0m\n\u001b[0;32m      2\u001b[0m \u001b[1;31m#[0.00009,7.142857142857143e-05,0.00009,7.142857142857143e-05,0.00009,7.142857142857143e-05]\u001b[0m\u001b[1;33m\u001b[0m\u001b[1;33m\u001b[0m\u001b[1;33m\u001b[0m\u001b[0m\n\u001b[0;32m      3\u001b[0m \u001b[1;31m#Change d0.\u001b[0m\u001b[1;33m\u001b[0m\u001b[1;33m\u001b[0m\u001b[1;33m\u001b[0m\u001b[0m\n\u001b[1;32m----> 4\u001b[1;33m \u001b[0ma_\u001b[0m\u001b[1;33m,\u001b[0m\u001b[0mb_\u001b[0m\u001b[1;33m,\u001b[0m \u001b[0mc_\u001b[0m \u001b[1;33m=\u001b[0m \u001b[0mo\u001b[0m\u001b[1;33m(\u001b[0m\u001b[0ml\u001b[0m\u001b[1;33m,\u001b[0m \u001b[0ms\u001b[0m\u001b[1;33m,\u001b[0m \u001b[0mpp\u001b[0m\u001b[1;33m,\u001b[0m \u001b[0mdt\u001b[0m\u001b[1;33m=\u001b[0m\u001b[1;36m0.01\u001b[0m\u001b[1;33m)\u001b[0m\u001b[1;33m\u001b[0m\u001b[1;33m\u001b[0m\u001b[0m\n\u001b[0m\u001b[0;32m      5\u001b[0m \u001b[0mplt\u001b[0m\u001b[1;33m.\u001b[0m\u001b[0mplot\u001b[0m\u001b[1;33m(\u001b[0m\u001b[0ma_\u001b[0m\u001b[1;33m)\u001b[0m\u001b[1;33m\u001b[0m\u001b[1;33m\u001b[0m\u001b[0m\n\u001b[0;32m      6\u001b[0m \u001b[1;33m\u001b[0m\u001b[0m\n",
      "\u001b[1;32m<ipython-input-7-1cddf78c8a09>\u001b[0m in \u001b[0;36mo\u001b[1;34m(l, s, p, dt)\u001b[0m\n\u001b[0;32m      9\u001b[0m         \u001b[0mp\u001b[0m\u001b[1;33m[\u001b[0m\u001b[1;34m'd0'\u001b[0m\u001b[1;33m]\u001b[0m \u001b[1;33m=\u001b[0m \u001b[0mi\u001b[0m\u001b[1;33m\u001b[0m\u001b[1;33m\u001b[0m\u001b[0m\n\u001b[0;32m     10\u001b[0m         \u001b[1;32mif\u001b[0m\u001b[1;33m(\u001b[0m\u001b[0mlen\u001b[0m\u001b[1;33m(\u001b[0m\u001b[0mds\u001b[0m\u001b[1;33m)\u001b[0m \u001b[1;33m>\u001b[0m \u001b[1;36m0\u001b[0m\u001b[1;33m)\u001b[0m\u001b[1;33m:\u001b[0m\u001b[1;33m\u001b[0m\u001b[1;33m\u001b[0m\u001b[0m\n\u001b[1;32m---> 11\u001b[1;33m             \u001b[0ml_d0\u001b[0m\u001b[1;33m,\u001b[0m\u001b[0ms_d0\u001b[0m\u001b[1;33m,\u001b[0m\u001b[0mds_d0\u001b[0m \u001b[1;33m=\u001b[0m \u001b[0mld\u001b[0m\u001b[1;33m.\u001b[0m\u001b[0miterate\u001b[0m\u001b[1;33m(\u001b[0m\u001b[1;36m1000\u001b[0m\u001b[1;33m,\u001b[0m\u001b[0ms\u001b[0m\u001b[1;33m,\u001b[0m\u001b[0mp\u001b[0m\u001b[1;33m,\u001b[0m \u001b[0mverbose\u001b[0m \u001b[1;33m=\u001b[0m \u001b[1;32mFalse\u001b[0m\u001b[1;33m,\u001b[0m \u001b[0mdt\u001b[0m\u001b[1;33m=\u001b[0m\u001b[0mdt\u001b[0m\u001b[1;33m,\u001b[0m \u001b[0ml\u001b[0m \u001b[1;33m=\u001b[0m \u001b[0mlast_lambda\u001b[0m\u001b[1;33m,\u001b[0m \u001b[0mds\u001b[0m \u001b[1;33m=\u001b[0m \u001b[0mlast_d0\u001b[0m\u001b[1;33m)\u001b[0m\u001b[1;33m\u001b[0m\u001b[1;33m\u001b[0m\u001b[0m\n\u001b[0m\u001b[0;32m     12\u001b[0m         \u001b[1;32melse\u001b[0m\u001b[1;33m:\u001b[0m\u001b[1;33m\u001b[0m\u001b[1;33m\u001b[0m\u001b[0m\n\u001b[0;32m     13\u001b[0m             \u001b[0ml_d0\u001b[0m\u001b[1;33m,\u001b[0m\u001b[0ms_d0\u001b[0m\u001b[1;33m,\u001b[0m\u001b[0mds_d0\u001b[0m \u001b[1;33m=\u001b[0m \u001b[0mld\u001b[0m\u001b[1;33m.\u001b[0m\u001b[0miterate\u001b[0m\u001b[1;33m(\u001b[0m\u001b[1;36m10\u001b[0m\u001b[1;33m,\u001b[0m\u001b[0ms\u001b[0m\u001b[1;33m,\u001b[0m\u001b[0mp\u001b[0m\u001b[1;33m,\u001b[0m \u001b[0mverbose\u001b[0m \u001b[1;33m=\u001b[0m \u001b[1;32mFalse\u001b[0m\u001b[1;33m,\u001b[0m \u001b[0mdt\u001b[0m\u001b[1;33m=\u001b[0m\u001b[0mdt\u001b[0m\u001b[1;33m)\u001b[0m\u001b[1;33m\u001b[0m\u001b[1;33m\u001b[0m\u001b[0m\n",
      "\u001b[1;32m~\\Desktop\\Harte\\Dynamete Code\\lambda_dynamics_ToyModel.py\u001b[0m in \u001b[0;36miterate\u001b[1;34m(t, s, p, dt, l, ds, verbose)\u001b[0m\n\u001b[0;32m     98\u001b[0m         \u001b[0mdl_mat\u001b[0m\u001b[1;33m,\u001b[0m\u001b[0mdl_vec\u001b[0m \u001b[1;33m=\u001b[0m \u001b[0mget_dl_matrix_vector\u001b[0m\u001b[1;33m(\u001b[0m\u001b[0mld\u001b[0m\u001b[1;33m[\u001b[0m\u001b[0mi\u001b[0m\u001b[1;33m]\u001b[0m\u001b[1;33m,\u001b[0m\u001b[0msd\u001b[0m\u001b[1;33m.\u001b[0m\u001b[0miloc\u001b[0m\u001b[1;33m[\u001b[0m\u001b[0mi\u001b[0m\u001b[1;33m]\u001b[0m\u001b[1;33m,\u001b[0m\u001b[0mp\u001b[0m\u001b[1;33m,\u001b[0m\u001b[0mdsd\u001b[0m\u001b[1;33m.\u001b[0m\u001b[0miloc\u001b[0m\u001b[1;33m[\u001b[0m\u001b[0mi\u001b[0m\u001b[1;33m]\u001b[0m\u001b[1;33m)\u001b[0m\u001b[1;33m\u001b[0m\u001b[1;33m\u001b[0m\u001b[0m\n\u001b[0;32m     99\u001b[0m         \u001b[1;31m# Solve for dlambdas/dt\u001b[0m\u001b[1;33m\u001b[0m\u001b[1;33m\u001b[0m\u001b[1;33m\u001b[0m\u001b[0m\n\u001b[1;32m--> 100\u001b[1;33m         \u001b[0mdl\u001b[0m \u001b[1;33m=\u001b[0m \u001b[0mlinalg\u001b[0m\u001b[1;33m.\u001b[0m\u001b[0msolve\u001b[0m\u001b[1;33m(\u001b[0m\u001b[0mdl_mat\u001b[0m\u001b[1;33m,\u001b[0m\u001b[0mdl_vec\u001b[0m\u001b[1;33m)\u001b[0m\u001b[1;33m\u001b[0m\u001b[1;33m\u001b[0m\u001b[0m\n\u001b[0m\u001b[0;32m    101\u001b[0m \u001b[1;33m\u001b[0m\u001b[0m\n\u001b[0;32m    102\u001b[0m         \u001b[1;31m# Now update state variables\u001b[0m\u001b[1;33m\u001b[0m\u001b[1;33m\u001b[0m\u001b[1;33m\u001b[0m\u001b[0m\n",
      "\u001b[1;32m~\\anaconda3\\lib\\site-packages\\scipy\\linalg\\basic.py\u001b[0m in \u001b[0;36msolve\u001b[1;34m(a, b, sym_pos, lower, overwrite_a, overwrite_b, debug, check_finite, assume_a, transposed)\u001b[0m\n\u001b[0;32m    135\u001b[0m     \u001b[0mb_is_1D\u001b[0m \u001b[1;33m=\u001b[0m \u001b[1;32mFalse\u001b[0m\u001b[1;33m\u001b[0m\u001b[1;33m\u001b[0m\u001b[0m\n\u001b[0;32m    136\u001b[0m \u001b[1;33m\u001b[0m\u001b[0m\n\u001b[1;32m--> 137\u001b[1;33m     \u001b[0ma1\u001b[0m \u001b[1;33m=\u001b[0m \u001b[0matleast_2d\u001b[0m\u001b[1;33m(\u001b[0m\u001b[0m_asarray_validated\u001b[0m\u001b[1;33m(\u001b[0m\u001b[0ma\u001b[0m\u001b[1;33m,\u001b[0m \u001b[0mcheck_finite\u001b[0m\u001b[1;33m=\u001b[0m\u001b[0mcheck_finite\u001b[0m\u001b[1;33m)\u001b[0m\u001b[1;33m)\u001b[0m\u001b[1;33m\u001b[0m\u001b[1;33m\u001b[0m\u001b[0m\n\u001b[0m\u001b[0;32m    138\u001b[0m     \u001b[0mb1\u001b[0m \u001b[1;33m=\u001b[0m \u001b[0matleast_1d\u001b[0m\u001b[1;33m(\u001b[0m\u001b[0m_asarray_validated\u001b[0m\u001b[1;33m(\u001b[0m\u001b[0mb\u001b[0m\u001b[1;33m,\u001b[0m \u001b[0mcheck_finite\u001b[0m\u001b[1;33m=\u001b[0m\u001b[0mcheck_finite\u001b[0m\u001b[1;33m)\u001b[0m\u001b[1;33m)\u001b[0m\u001b[1;33m\u001b[0m\u001b[1;33m\u001b[0m\u001b[0m\n\u001b[0;32m    139\u001b[0m     \u001b[0mn\u001b[0m \u001b[1;33m=\u001b[0m \u001b[0ma1\u001b[0m\u001b[1;33m.\u001b[0m\u001b[0mshape\u001b[0m\u001b[1;33m[\u001b[0m\u001b[1;36m0\u001b[0m\u001b[1;33m]\u001b[0m\u001b[1;33m\u001b[0m\u001b[1;33m\u001b[0m\u001b[0m\n",
      "\u001b[1;32m~\\anaconda3\\lib\\site-packages\\scipy\\_lib\\_util.py\u001b[0m in \u001b[0;36m_asarray_validated\u001b[1;34m(a, check_finite, sparse_ok, objects_ok, mask_ok, as_inexact)\u001b[0m\n\u001b[0;32m    260\u001b[0m             \u001b[1;32mraise\u001b[0m \u001b[0mValueError\u001b[0m\u001b[1;33m(\u001b[0m\u001b[1;34m'masked arrays are not supported'\u001b[0m\u001b[1;33m)\u001b[0m\u001b[1;33m\u001b[0m\u001b[1;33m\u001b[0m\u001b[0m\n\u001b[0;32m    261\u001b[0m     \u001b[0mtoarray\u001b[0m \u001b[1;33m=\u001b[0m \u001b[0mnp\u001b[0m\u001b[1;33m.\u001b[0m\u001b[0masarray_chkfinite\u001b[0m \u001b[1;32mif\u001b[0m \u001b[0mcheck_finite\u001b[0m \u001b[1;32melse\u001b[0m \u001b[0mnp\u001b[0m\u001b[1;33m.\u001b[0m\u001b[0masarray\u001b[0m\u001b[1;33m\u001b[0m\u001b[1;33m\u001b[0m\u001b[0m\n\u001b[1;32m--> 262\u001b[1;33m     \u001b[0ma\u001b[0m \u001b[1;33m=\u001b[0m \u001b[0mtoarray\u001b[0m\u001b[1;33m(\u001b[0m\u001b[0ma\u001b[0m\u001b[1;33m)\u001b[0m\u001b[1;33m\u001b[0m\u001b[1;33m\u001b[0m\u001b[0m\n\u001b[0m\u001b[0;32m    263\u001b[0m     \u001b[1;32mif\u001b[0m \u001b[1;32mnot\u001b[0m \u001b[0mobjects_ok\u001b[0m\u001b[1;33m:\u001b[0m\u001b[1;33m\u001b[0m\u001b[1;33m\u001b[0m\u001b[0m\n\u001b[0;32m    264\u001b[0m         \u001b[1;32mif\u001b[0m \u001b[0ma\u001b[0m\u001b[1;33m.\u001b[0m\u001b[0mdtype\u001b[0m \u001b[1;32mis\u001b[0m \u001b[0mnp\u001b[0m\u001b[1;33m.\u001b[0m\u001b[0mdtype\u001b[0m\u001b[1;33m(\u001b[0m\u001b[1;34m'O'\u001b[0m\u001b[1;33m)\u001b[0m\u001b[1;33m:\u001b[0m\u001b[1;33m\u001b[0m\u001b[1;33m\u001b[0m\u001b[0m\n",
      "\u001b[1;32m~\\anaconda3\\lib\\site-packages\\numpy\\lib\\function_base.py\u001b[0m in \u001b[0;36masarray_chkfinite\u001b[1;34m(a, dtype, order)\u001b[0m\n\u001b[0;32m    625\u001b[0m     \u001b[0ma\u001b[0m \u001b[1;33m=\u001b[0m \u001b[0masarray\u001b[0m\u001b[1;33m(\u001b[0m\u001b[0ma\u001b[0m\u001b[1;33m,\u001b[0m \u001b[0mdtype\u001b[0m\u001b[1;33m=\u001b[0m\u001b[0mdtype\u001b[0m\u001b[1;33m,\u001b[0m \u001b[0morder\u001b[0m\u001b[1;33m=\u001b[0m\u001b[0morder\u001b[0m\u001b[1;33m)\u001b[0m\u001b[1;33m\u001b[0m\u001b[1;33m\u001b[0m\u001b[0m\n\u001b[0;32m    626\u001b[0m     \u001b[1;32mif\u001b[0m \u001b[0ma\u001b[0m\u001b[1;33m.\u001b[0m\u001b[0mdtype\u001b[0m\u001b[1;33m.\u001b[0m\u001b[0mchar\u001b[0m \u001b[1;32min\u001b[0m \u001b[0mtypecodes\u001b[0m\u001b[1;33m[\u001b[0m\u001b[1;34m'AllFloat'\u001b[0m\u001b[1;33m]\u001b[0m \u001b[1;32mand\u001b[0m \u001b[1;32mnot\u001b[0m \u001b[0mnp\u001b[0m\u001b[1;33m.\u001b[0m\u001b[0misfinite\u001b[0m\u001b[1;33m(\u001b[0m\u001b[0ma\u001b[0m\u001b[1;33m)\u001b[0m\u001b[1;33m.\u001b[0m\u001b[0mall\u001b[0m\u001b[1;33m(\u001b[0m\u001b[1;33m)\u001b[0m\u001b[1;33m:\u001b[0m\u001b[1;33m\u001b[0m\u001b[1;33m\u001b[0m\u001b[0m\n\u001b[1;32m--> 627\u001b[1;33m         raise ValueError(\n\u001b[0m\u001b[0;32m    628\u001b[0m             \"array must not contain infs or NaNs\")\n\u001b[0;32m    629\u001b[0m     \u001b[1;32mreturn\u001b[0m \u001b[0ma\u001b[0m\u001b[1;33m\u001b[0m\u001b[1;33m\u001b[0m\u001b[0m\n",
      "\u001b[1;31mValueError\u001b[0m: array must not contain infs or NaNs"
     ]
    }
   ],
   "source": [
    "#Change Death Rate\n",
    "#[0.00009,7.142857142857143e-05,0.00009,7.142857142857143e-05,0.00009,7.142857142857143e-05]\n",
    "#Change d0. \n",
    "a_,b_, c_ = o(l, s, pp, dt=0.01)\n",
    "plt.plot(a_)\n",
    "\n",
    "#2 minutes"
   ]
  },
  {
   "cell_type": "code",
   "execution_count": 195,
   "id": "bee9eea4",
   "metadata": {},
   "outputs": [
    {
     "data": {
      "text/plain": [
       "[<matplotlib.lines.Line2D at 0x1fbd9a73160>,\n",
       " <matplotlib.lines.Line2D at 0x1fbd9a73220>]"
      ]
     },
     "execution_count": 195,
     "metadata": {},
     "output_type": "execute_result"
    },
    {
     "data": {
      "image/png": "[encoded data removed]",
      "text/plain": [
       "<Figure size 432x288 with 1 Axes>"
      ]
     },
     "metadata": {
      "needs_background": "light"
     },
     "output_type": "display_data"
    }
   ],
   "source": [
    "plt.plot([i for i in b_])\n"
   ]
  },
  {
   "cell_type": "code",
   "execution_count": 36,
   "id": "2efba8a6",
   "metadata": {},
   "outputs": [
    {
     "data": {
      "text/plain": [
       "[<matplotlib.lines.Line2D at 0x18890382670>]"
      ]
     },
     "execution_count": 36,
     "metadata": {},
     "output_type": "execute_result"
    },
    {
     "data": {
      "image/png": "[encoded data removed]",
      "text/plain": [
       "<Figure size 432x288 with 1 Axes>"
      ]
     },
     "metadata": {
      "needs_background": "light"
     },
     "output_type": "display_data"
    }
   ],
   "source": [
    "def f(x):\n",
    "    return 0.0008 + 0.0002/(1 + np.exp(-1*x))\n",
    "\n",
    "n = [f(i) for i in np.arange(-50,50,0.01)]\n",
    "plt.plot(n)"
   ]
  },
  {
   "cell_type": "code",
   "execution_count": 42,
   "id": "8fcd897b",
   "metadata": {},
   "outputs": [
    {
     "data": {
      "text/plain": [
       "[<matplotlib.lines.Line2D at 0x18891784940>]"
      ]
     },
     "execution_count": 42,
     "metadata": {},
     "output_type": "execute_result"
    },
    {
     "data": {
      "image/png": "[encoded data removed]",
      "text/plain": [
       "<Figure size 432x288 with 1 Axes>"
      ]
     },
     "metadata": {
      "needs_background": "light"
     },
     "output_type": "display_data"
    }
   ],
   "source": [
    "#Change Death Rate\n",
    "#[0.00009,7.142857142857143e-05,0.00009,7.142857142857143e-05,0.00009,7.142857142857143e-05]\n",
    "#965.66\n",
    "a,b, c = o(n, s, pp)\n",
    "plt.plot(a)\n",
    "\n",
    "#5 minutes"
   ]
  },
  {
   "cell_type": "code",
   "execution_count": 43,
   "id": "764dc7b8",
   "metadata": {},
   "outputs": [
    {
     "data": {
      "text/plain": [
       "[<matplotlib.lines.Line2D at 0x188917be400>]"
      ]
     },
     "execution_count": 43,
     "metadata": {},
     "output_type": "execute_result"
    },
    {
     "data": {
      "image/png": "[encoded data removed]",
      "text/plain": [
       "<Figure size 432x288 with 1 Axes>"
      ]
     },
     "metadata": {
      "needs_background": "light"
     },
     "output_type": "display_data"
    }
   ],
   "source": [
    "plt.plot(a)\n",
    "plt.plot(a_)"
   ]
  },
  {
   "cell_type": "code",
   "execution_count": 31,
   "id": "fa0d1688",
   "metadata": {},
   "outputs": [
    {
     "data": {
      "text/plain": [
       "<matplotlib.collections.PathCollection at 0x1889006d0d0>"
      ]
     },
     "execution_count": 31,
     "metadata": {},
     "output_type": "execute_result"
    },
    {
     "data": {
      "image/png": "[encoded data removed]",
      "text/plain": [
       "<Figure size 432x288 with 1 Axes>"
      ]
     },
     "metadata": {
      "needs_background": "light"
     },
     "output_type": "display_data"
    }
   ],
   "source": [
    "n = b[3000:3600]\n",
    "plt.scatter([i for i in range(len(n))],[i[1] for i in n])"
   ]
  },
  {
   "cell_type": "code",
   "execution_count": 33,
   "id": "428c209b",
   "metadata": {},
   "outputs": [
    {
     "data": {
      "text/plain": [
       "<matplotlib.collections.PathCollection at 0x188902d2df0>"
      ]
     },
     "execution_count": 33,
     "metadata": {},
     "output_type": "execute_result"
    },
    {
     "data": {
      "image/png": "[encoded data removed]",
      "text/plain": [
       "<Figure size 432x288 with 1 Axes>"
      ]
     },
     "metadata": {
      "needs_background": "light"
     },
     "output_type": "display_data"
    }
   ],
   "source": [
    "n = b_[3000:3600]\n",
    "plt.scatter([i for i in range(len(n))],[i[1] for i in n])"
   ]
  },
  {
   "cell_type": "code",
   "execution_count": 32,
   "id": "fa9c32a2",
   "metadata": {},
   "outputs": [
    {
     "data": {
      "text/plain": [
       "[<matplotlib.lines.Line2D at 0x17caacd43a0>]"
      ]
     },
     "execution_count": 32,
     "metadata": {},
     "output_type": "execute_result"
    },
    {
     "data": {
      "image/png": "[encoded data removed]",
      "text/plain": [
       "<Figure size 432x288 with 1 Axes>"
      ]
     },
     "metadata": {
      "needs_background": "light"
     },
     "output_type": "display_data"
    }
   ],
   "source": [
    "plt.plot(a_[2100:2200])\n",
    "plt.plot(a[2100:2200])"
   ]
  },
  {
   "cell_type": "code",
   "execution_count": 15,
   "id": "c29054ac",
   "metadata": {},
   "outputs": [
    {
     "data": {
      "text/plain": [
       "array([0.05379924, 0.03898381])"
      ]
     },
     "execution_count": 15,
     "metadata": {},
     "output_type": "execute_result"
    }
   ],
   "source": [
    "b[2090]"
   ]
  },
  {
   "cell_type": "code",
   "execution_count": 19,
   "id": "cd64f55e",
   "metadata": {},
   "outputs": [
    {
     "data": {
      "text/plain": [
       "[array([0.05379924, 0.03898381]),\n",
       " array([0.05379924, 0.03898381]),\n",
       " array([0.05479006, 0.04568406]),\n",
       " array([0.0547978 , 0.04570926]),\n",
       " array([0.05480554, 0.0457343 ]),\n",
       " array([0.05481326, 0.04575918]),\n",
       " array([0.05482017, 0.04578175]),\n",
       " array([0.05482788, 0.04580683]),\n",
       " array([0.05483558, 0.04583175]),\n",
       " array([0.05484327, 0.04585651])]"
      ]
     },
     "execution_count": 19,
     "metadata": {},
     "output_type": "execute_result"
    }
   ],
   "source": [
    "b[2090:2100]"
   ]
  },
  {
   "cell_type": "code",
   "execution_count": null,
   "id": "138eaf5e",
   "metadata": {},
   "outputs": [],
   "source": []
  },
  {
   "cell_type": "code",
   "execution_count": null,
   "id": "0e902cf6",
   "metadata": {},
   "outputs": [],
   "source": [
    "#Change Death Rate\n",
    "#[0.00009,7.142857142857143e-05,0.00009,7.142857142857143e-05,0.00009,7.142857142857143e-05]\n",
    "a,b, c = o_([0.04,0.03,0.04,0.03], s, pp, dt = 0.003)\n",
    "plt.plot(a)\n",
    "\n",
    "#34"
   ]
  },
  {
   "cell_type": "code",
   "execution_count": 49,
   "id": "70111f4d",
   "metadata": {},
   "outputs": [
    {
     "name": "stdout",
     "output_type": "stream",
     "text": [
      "0.04: 1425.3845829902702\n",
      "0.03000045434199878\n",
      "0.03: 1087.6339006857893\n",
      "0.03999954565800122\n",
      "0.04: 1419.9047329011917\n",
      "0.03000045434199878\n",
      "0.03: 1153.7238802489917\n"
     ]
    },
    {
     "data": {
      "text/plain": [
       "[<matplotlib.lines.Line2D at 0x25e7c8d88b0>]"
      ]
     },
     "execution_count": 49,
     "metadata": {},
     "output_type": "execute_result"
    },
    {
     "data": {
      "image/png": "[encoded data removed]",
      "text/plain": [
       "<Figure size 432x288 with 1 Axes>"
      ]
     },
     "metadata": {
      "needs_background": "light"
     },
     "output_type": "display_data"
    }
   ],
   "source": [
    "#Change Death Rate\n",
    "#[0.00009,7.142857142857143e-05,0.00009,7.142857142857143e-05,0.00009,7.142857142857143e-05]\n",
    "a,b, c = o([0.04,0.03,0.04,0.03], s, pp, dt = 0.003)\n",
    "plt.plot(a)"
   ]
  },
  {
   "cell_type": "code",
   "execution_count": 30,
   "id": "8eba2d54",
   "metadata": {},
   "outputs": [
    {
     "name": "stdout",
     "output_type": "stream",
     "text": [
      "0.04: 14987.841565429388\n",
      "0.03: 10804.093904277948\n",
      "0.04: 14978.939689437093\n",
      "0.03: 11573.817914365596\n"
     ]
    },
    {
     "data": {
      "text/plain": [
       "[<matplotlib.lines.Line2D at 0x26e2d6a2310>]"
      ]
     },
     "execution_count": 30,
     "metadata": {},
     "output_type": "execute_result"
    },
    {
     "data": {
      "image/png": "[encoded data removed]",
      "text/plain": [
       "<Figure size 432x288 with 1 Axes>"
      ]
     },
     "metadata": {
      "needs_background": "light"
     },
     "output_type": "display_data"
    }
   ],
   "source": [
    "#Change Death Rate\n",
    "#[0.00009,7.142857142857143e-05,0.00009,7.142857142857143e-05,0.00009,7.142857142857143e-05]\n",
    "a,b, c = o([0.04,0.03,0.04,0.03], s, pp)\n",
    "plt.plot(a)"
   ]
  },
  {
   "cell_type": "code",
   "execution_count": 40,
   "id": "a760374e",
   "metadata": {},
   "outputs": [
    {
     "data": {
      "text/plain": [
       "[<matplotlib.lines.Line2D at 0x26e2fafc5b0>]"
      ]
     },
     "execution_count": 40,
     "metadata": {},
     "output_type": "execute_result"
    },
    {
     "data": {
      "image/png": "[encoded data removed]",
      "text/plain": [
       "<Figure size 432x288 with 1 Axes>"
      ]
     },
     "metadata": {
      "needs_background": "light"
     },
     "output_type": "display_data"
    }
   ],
   "source": [
    "plt.plot(c[1:][::2])"
   ]
  },
  {
   "cell_type": "code",
   "execution_count": 53,
   "id": "4cae8ec4",
   "metadata": {},
   "outputs": [
    {
     "data": {
      "text/plain": [
       "1.611431676642011e-21"
      ]
     },
     "execution_count": 53,
     "metadata": {},
     "output_type": "execute_result"
    }
   ],
   "source": [
    "x = c[1:][::2]\n",
    "(x[-100])**2"
   ]
  },
  {
   "cell_type": "code",
   "execution_count": 51,
   "id": "dcba409d",
   "metadata": {},
   "outputs": [
    {
     "data": {
      "text/plain": [
       "[<matplotlib.lines.Line2D at 0x26e87344040>]"
      ]
     },
     "execution_count": 51,
     "metadata": {},
     "output_type": "execute_result"
    },
    {
     "data": {
      "image/png": "[encoded data removed]",
      "text/plain": [
       "<Figure size 432x288 with 1 Axes>"
      ]
     },
     "metadata": {
      "needs_background": "light"
     },
     "output_type": "display_data"
    }
   ],
   "source": [
    "plt.plot(x) "
   ]
  },
  {
   "cell_type": "code",
   "execution_count": 11,
   "id": "866f93c8",
   "metadata": {},
   "outputs": [
    {
     "data": {
      "text/plain": [
       "[<matplotlib.lines.Line2D at 0x1975897fd60>]"
      ]
     },
     "execution_count": 11,
     "metadata": {},
     "output_type": "execute_result"
    },
    {
     "data": {
      "image/png": "[encoded data removed]",
      "text/plain": [
       "<Figure size 432x288 with 1 Axes>"
      ]
     },
     "metadata": {
      "needs_background": "light"
     },
     "output_type": "display_data"
    }
   ],
   "source": [
    "plt.plot(c[1:][::2])"
   ]
  },
  {
   "cell_type": "markdown",
   "id": "70f20bb6",
   "metadata": {},
   "source": [
    "pp['b0'] = 0.04\n",
    "pp"
   ]
  },
  {
   "cell_type": "code",
   "execution_count": 269,
   "id": "f49f017f",
   "metadata": {},
   "outputs": [],
   "source": [
    "l_d0,s_d0,ds_d0 = ld.iterate(10000,s,pp, verbose = False, dt=0.01)"
   ]
  },
  {
   "cell_type": "code",
   "execution_count": 270,
   "id": "96d4797a",
   "metadata": {},
   "outputs": [
    {
     "data": {
      "text/plain": [
       "[<matplotlib.lines.Line2D at 0x26112c865b0>]"
      ]
     },
     "execution_count": 270,
     "metadata": {},
     "output_type": "execute_result"
    },
    {
     "data": {
      "image/png": "[encoded data removed]",
      "text/plain": [
       "<Figure size 432x288 with 1 Axes>"
      ]
     },
     "metadata": {
      "needs_background": "light"
     },
     "output_type": "display_data"
    }
   ],
   "source": [
    "plt.plot(s_d0['N'])"
   ]
  },
  {
   "cell_type": "code",
   "execution_count": 121,
   "id": "675763a2",
   "metadata": {},
   "outputs": [
    {
     "data": {
      "text/plain": [
       "[<matplotlib.lines.Line2D at 0x2610d8920a0>,\n",
       " <matplotlib.lines.Line2D at 0x2610d892160>]"
      ]
     },
     "execution_count": 121,
     "metadata": {},
     "output_type": "execute_result"
    },
    {
     "data": {
      "image/png": "[encoded data removed]",
      "text/plain": [
       "<Figure size 432x288 with 1 Axes>"
      ]
     },
     "metadata": {
      "needs_background": "light"
     },
     "output_type": "display_data"
    }
   ],
   "source": [
    "plt.plot(ds_d0)"
   ]
  },
  {
   "cell_type": "code",
   "execution_count": 146,
   "id": "87c1fc80",
   "metadata": {},
   "outputs": [
    {
     "data": {
      "text/plain": [
       "[<matplotlib.lines.Line2D at 0x2611307c310>,\n",
       " <matplotlib.lines.Line2D at 0x2611307c3d0>]"
      ]
     },
     "execution_count": 146,
     "metadata": {},
     "output_type": "execute_result"
    },
    {
     "data": {
      "image/png": "[encoded data removed]",
      "text/plain": [
       "<Figure size 432x288 with 1 Axes>"
      ]
     },
     "metadata": {
      "needs_background": "light"
     },
     "output_type": "display_data"
    }
   ],
   "source": [
    "plt.plot(l_d0[:550])"
   ]
  },
  {
   "cell_type": "code",
   "execution_count": 92,
   "id": "7e26f7f7",
   "metadata": {},
   "outputs": [
    {
     "data": {
      "text/plain": [
       "array([[0.0052316 , 0.00277969],\n",
       "       [0.00523555, 0.0028284 ],\n",
       "       [0.00523948, 0.00287686],\n",
       "       [0.00524339, 0.00292506],\n",
       "       [0.0052473 , 0.00297301],\n",
       "       [0.00525118, 0.00302071],\n",
       "       [0.00525505, 0.00306815],\n",
       "       [0.0052589 , 0.00311535],\n",
       "       [0.00526274, 0.00316229],\n",
       "       [0.00526656, 0.00320898],\n",
       "       [0.00527037, 0.00325542],\n",
       "       [0.00527416, 0.00330161],\n",
       "       [0.00527793, 0.00334755],\n",
       "       [0.00528169, 0.00339323],\n",
       "       [0.00528544, 0.00343865],\n",
       "       [0.00528916, 0.00348382],\n",
       "       [0.00529287, 0.00352873],\n",
       "       [0.00529657, 0.00357337],\n",
       "       [0.00530025, 0.00361774],\n",
       "       [0.00530391, 0.00366183],\n",
       "       [0.00530755, 0.00370564],\n",
       "       [0.00531118, 0.00374914],\n",
       "       [0.00531479, 0.00379233],\n",
       "       [0.00531838, 0.00383518],\n",
       "       [0.00532194, 0.00387768],\n",
       "       [0.00532549, 0.00391979],\n",
       "       [0.00532901, 0.00396146],\n",
       "       [0.00533251, 0.00400266],\n",
       "       [0.00533598, 0.00404334],\n",
       "       [0.00533942, 0.00408341],\n",
       "       [0.00534282, 0.0041228 ],\n",
       "       [0.00534619, 0.00416142],\n",
       "       [0.00534951, 0.00419916],\n",
       "       [0.00535279, 0.00423593],\n",
       "       [0.00535601, 0.00427161],\n",
       "       [0.00535917, 0.00430609],\n",
       "       [0.00536227, 0.00433926],\n",
       "       [0.00536531, 0.00437107],\n",
       "       [0.00536828, 0.00440144],\n",
       "       [0.00537118, 0.00443034],\n",
       "       [0.005374  , 0.00445776],\n",
       "       [0.00537676, 0.00448375],\n",
       "       [0.00537945, 0.00450833],\n",
       "       [0.00538208, 0.00453157],\n",
       "       [0.00538465, 0.00455353],\n",
       "       [0.00538716, 0.00457432],\n",
       "       [0.00538962, 0.00459401],\n",
       "       [0.00539202, 0.00461268],\n",
       "       [0.00539439, 0.00463041],\n",
       "       [0.0053967 , 0.00464729]])"
      ]
     },
     "execution_count": 92,
     "metadata": {},
     "output_type": "execute_result"
    }
   ],
   "source": [
    "l_d0[50:100]"
   ]
  },
  {
   "cell_type": "code",
   "execution_count": null,
   "id": "eaba5c49",
   "metadata": {},
   "outputs": [],
   "source": [
    "b[50:100]"
   ]
  },
  {
   "cell_type": "code",
   "execution_count": 2,
   "id": "9c4d5f6d",
   "metadata": {},
   "outputs": [
    {
     "name": "stdout",
     "output_type": "stream",
     "text": [
      "Non exact parameters\n"
     ]
    },
    {
     "data": {
      "text/plain": [
       "b0       0.030000\n",
       "d0       0.000769\n",
       "Nc    1000.000000\n",
       "dtype: float64"
      ]
     },
     "metadata": {},
     "output_type": "display_data"
    },
    {
     "data": {
      "text/plain": [
       "dS    0.000000e+00\n",
       "dN    8.021310e-16\n",
       "dtype: float64"
      ]
     },
     "metadata": {},
     "output_type": "display_data"
    },
    {
     "name": "stdout",
     "output_type": "stream",
     "text": [
      "Exact parameters\n"
     ]
    },
    {
     "data": {
      "text/plain": [
       "b0       0.030000\n",
       "d0       0.000769\n",
       "Nc    1000.000000\n",
       "dtype: float64"
      ]
     },
     "metadata": {},
     "output_type": "display_data"
    },
    {
     "data": {
      "text/plain": [
       "dS    0.000000e+00\n",
       "dN    8.021310e-16\n",
       "dtype: float64"
      ]
     },
     "metadata": {},
     "output_type": "display_data"
    }
   ],
   "source": [
    "# Set up unperturbed parameters\n",
    "\n",
    "# state variables\n",
    "s = pd.Series(np.array([50, 1000]), index=['S','N']) #'S' = array.item(0), 'N' is array.item(1)\n",
    "\n",
    "# parameters. We will derive the precise ones below\n",
    "p_d = np.array([0.03,0.6/780, s['N']]) #s['N'] gives us array.item(1) (array is the first argument to pd.Series)\n",
    "p = pd.Series(p_d,index=['b0','d0','Nc']) #to assign the birth rate, unperturbed death rate, and carrying capacity\n",
    "\n",
    "# To get precise parameters\n",
    "pp = ld.get_ss_params(s,p)\n",
    "\n",
    "# Initial lambdas\n",
    "li = rf.lambda_i(s)\n",
    "# Display parameters and show derivatives are close enough to zero. (-900/2.5*10^5 is still small)\n",
    "print(\"Non exact parameters\")\n",
    "display(p)\n",
    "display(rf.get_dXdt(li,s,p))\n",
    "print(\"Exact parameters\")\n",
    "display(pp)\n",
    "display(rf.get_dXdt(li,s,pp))"
   ]
  },
  {
   "cell_type": "code",
   "execution_count": 3,
   "id": "df5980a9",
   "metadata": {},
   "outputs": [
    {
     "data": {
      "text/plain": [
       "[<matplotlib.lines.Line2D at 0x1d9f114d9a0>]"
      ]
     },
     "execution_count": 3,
     "metadata": {},
     "output_type": "execute_result"
    },
    {
     "data": {
      "image/png": "[encoded data removed]",
      "text/plain": [
       "<Figure size 432x288 with 1 Axes>"
      ]
     },
     "metadata": {
      "needs_background": "light"
     },
     "output_type": "display_data"
    }
   ],
   "source": [
    "ret = []\n",
    "lam = []\n",
    "counter = 0\n",
    "\n",
    "p['d0']=0.0008\n",
    "for i in range(144):\n",
    "    if(len(ret) > 0):\n",
    "        l_d0,s_d0,ds_d0 = ld.iterate(1,s,p, verbose = False, dt=0.001, l = last_lambda, ds = last_d0)\n",
    "    else:\n",
    "        l_d0,s_d0,ds_d0 = ld.iterate(1,s,p, verbose = False, dt=0.001)\n",
    "    s = s_d0.iloc[-1]\n",
    "    ret += list(s_d0['N'])[-1:]\n",
    "    lam += list(l_d0)[-1:]\n",
    "    last_lambda = l_d0[-1]\n",
    "    last_d0 = ds_d0.iloc[-1]\n",
    "\n",
    "p['d0']=0.6/780\n",
    "for i in range(1000):\n",
    "    if(len(ret) > 0):\n",
    "        l_d0,s_d0,ds_d0 = ld.iterate(1000,s,p, verbose = False, dt=0.001, l = last_lambda, ds = last_d0)\n",
    "    else:\n",
    "        l_d0,s_d0,ds_d0 = ld.iterate(1000,s,p, verbose = False, dt=0.001)\n",
    "    s = s_d0.iloc[-1]\n",
    "    ret += list(s_d0['N'])\n",
    "    lam += list(l_d0)\n",
    "    last_lambda = l_d0[-1]\n",
    "    last_d0 = ds_d0.iloc[-1]\n",
    "    \n",
    "plt.plot(ret)"
   ]
  },
  {
   "cell_type": "code",
   "execution_count": 49,
   "id": "5beac567",
   "metadata": {},
   "outputs": [
    {
     "data": {
      "text/plain": [
       "array([ 5.12923921e-02, -2.79513878e-05])"
      ]
     },
     "execution_count": 49,
     "metadata": {},
     "output_type": "execute_result"
    }
   ],
   "source": [
    "#timstep = 84416\n",
    "#L1 = 0.05129\n",
    "#L2 = -7.64 * 10^-7\n",
    "\n",
    "#np.where((np.array(ret) - 1000)**2 == min((np.array(ret) - 1000)*\n",
    "lam_[-1]"
   ]
  },
  {
   "cell_type": "code",
   "execution_count": 4,
   "id": "c32dfa76",
   "metadata": {},
   "outputs": [
    {
     "name": "stdout",
     "output_type": "stream",
     "text": [
      "Non exact parameters\n"
     ]
    },
    {
     "data": {
      "text/plain": [
       "b0       0.030000\n",
       "d0       0.000769\n",
       "Nc    1000.000000\n",
       "dtype: float64"
      ]
     },
     "metadata": {},
     "output_type": "display_data"
    },
    {
     "data": {
      "text/plain": [
       "dS    0.000000e+00\n",
       "dN    8.021310e-16\n",
       "dtype: float64"
      ]
     },
     "metadata": {},
     "output_type": "display_data"
    },
    {
     "name": "stdout",
     "output_type": "stream",
     "text": [
      "Exact parameters\n"
     ]
    },
    {
     "data": {
      "text/plain": [
       "b0       0.030000\n",
       "d0       0.000769\n",
       "Nc    1000.000000\n",
       "dtype: float64"
      ]
     },
     "metadata": {},
     "output_type": "display_data"
    },
    {
     "data": {
      "text/plain": [
       "dS    0.000000e+00\n",
       "dN    8.021310e-16\n",
       "dtype: float64"
      ]
     },
     "metadata": {},
     "output_type": "display_data"
    }
   ],
   "source": [
    "# Set up unperturbed parameters\n",
    "\n",
    "# state variables\n",
    "s = pd.Series(np.array([50, 1000]), index=['S','N']) #'S' = array.item(0), 'N' is array.item(1)\n",
    "\n",
    "# parameters. We will derive the precise ones below\n",
    "p_d = np.array([0.03,0.6/780, s['N']]) #s['N'] gives us array.item(1) (array is the first argument to pd.Series)\n",
    "p = pd.Series(p_d,index=['b0','d0','Nc']) #to assign the birth rate, unperturbed death rate, and carrying capacity\n",
    "\n",
    "# To get precise parameters\n",
    "pp = ld.get_ss_params(s,p)\n",
    "\n",
    "# Initial lambdas\n",
    "li = rf.lambda_i(s)\n",
    "# Display parameters and show derivatives are close enough to zero. (-900/2.5*10^5 is still small)\n",
    "print(\"Non exact parameters\")\n",
    "display(p)\n",
    "display(rf.get_dXdt(li,s,p))\n",
    "print(\"Exact parameters\")\n",
    "display(pp)\n",
    "display(rf.get_dXdt(li,s,pp))"
   ]
  },
  {
   "cell_type": "code",
   "execution_count": 5,
   "id": "15ac5253",
   "metadata": {},
   "outputs": [
    {
     "data": {
      "text/plain": [
       "[<matplotlib.lines.Line2D at 0x1da0b741220>]"
      ]
     },
     "execution_count": 5,
     "metadata": {},
     "output_type": "execute_result"
    },
    {
     "data": {
      "image/png": "[encoded data removed]",
      "text/plain": [
       "<Figure size 432x288 with 1 Axes>"
      ]
     },
     "metadata": {
      "needs_background": "light"
     },
     "output_type": "display_data"
    }
   ],
   "source": [
    "ret_ = []\n",
    "lam_ = []\n",
    "ds_ = np.array([])\n",
    "counter = 0\n",
    "\n",
    "p['d0']=0.0008\n",
    "for i in range(1440):\n",
    "    if(len(ret_) > 0):\n",
    "        l_d0,s_d0,ds_d0 = ld.iterate(1,s,p, verbose = False, dt=0.0001, l = last_lambda, ds = last_d0)\n",
    "    else:\n",
    "        l_d0,s_d0,ds_d0 = ld.iterate(1,s,p, verbose = False, dt=0.0001)\n",
    "    s = s_d0.iloc[-1]\n",
    "    ret_ += list(s_d0['N'])[-1:]\n",
    "    lam_ += list(l_d0)[-1:]\n",
    "    last_lambda = l_d0[-1]\n",
    "    last_d0 = ds_d0.iloc[-1]\n",
    "\n",
    "p['d0']=0.6/780\n",
    "\n",
    "for i in range(1):\n",
    "    if(len(ret_) > 0):\n",
    "        l_d0,s_d0,ds_d0 = ld.iterate(6000000,s,p, verbose = False, dt=0.0001, l = last_lambda, ds = last_d0)\n",
    "    else:\n",
    "        l_d0,s_d0,ds_d0 = ld.iterate(6000000,s,p, verbose = False, dt=0.0001)\n",
    "    s = s_d0.iloc[-1]\n",
    "    ret_ += list(s_d0['N'])\n",
    "    lam_ += list(l_d0)\n",
    "    last_lambda = l_d0[-1]\n",
    "    last_d0 = ds_d0.iloc[-1]\n",
    "    \n",
    "plt.plot(ret_)"
   ]
  },
  {
   "cell_type": "code",
   "execution_count": 26,
   "id": "ab722659",
   "metadata": {},
   "outputs": [
    {
     "data": {
      "text/plain": [
       "array([ 5.12940232e-02, -7.64917199e-07])"
      ]
     },
     "execution_count": 26,
     "metadata": {},
     "output_type": "execute_result"
    }
   ],
   "source": [
    "#timestep: 841407\n",
    "#np.where((np.array(ret_) - 1000)**2 == min((np.array(ret_) - 1000)**2))\n",
    "lam_[841407]"
   ]
  },
  {
   "cell_type": "code",
   "execution_count": null,
   "id": "0483d2aa",
   "metadata": {},
   "outputs": [],
   "source": [
    "# Set up unperturbed parameters\n",
    "\n",
    "# state variables\n",
    "s = pd.Series(np.array([50, 1000]), index=['S','N']) #'S' = array.item(0), 'N' is array.item(1)\n",
    "\n",
    "# parameters. We will derive the precise ones below\n",
    "p_d = np.array([0.03,0.6/780, s['N']]) #s['N'] gives us array.item(1) (array is the first argument to pd.Series)\n",
    "p = pd.Series(p_d,index=['b0','d0','Nc']) #to assign the birth rate, unperturbed death rate, and carrying capacity\n",
    "\n",
    "# To get precise parameters\n",
    "pp = ld.get_ss_params(s,p)\n",
    "\n",
    "# Initial lambdas\n",
    "li = rf.lambda_i(s)\n",
    "# Display parameters and show derivatives are close enough to zero. (-900/2.5*10^5 is still small)\n",
    "print(\"Non exact parameters\")\n",
    "display(p)\n",
    "display(rf.get_dXdt(li,s,p))\n",
    "print(\"Exact parameters\")\n",
    "display(pp)\n",
    "display(rf.get_dXdt(li,s,pp))"
   ]
  },
  {
   "cell_type": "code",
   "execution_count": null,
   "id": "e2c4d9cd",
   "metadata": {},
   "outputs": [],
   "source": [
    "ret = []\n",
    "lam = []\n",
    "ds = np.array([])\n",
    "counter = 0\n",
    "p['d0']=0.008\n",
    "\n",
    "for i in range(10**3):\n",
    "    if(len(ds) > 0):\n",
    "        l_d0,s_d0,ds_d0 = ld.iterate(1000,s,p, verbose = False, dt=10**(-6), l = last_lambda, ds = last_d0)\n",
    "    else:\n",
    "        l_d0,s_d0,ds_d0 = ld.iterate(1000,s,p, verbose = False, dt=10**(-6))\n",
    "    s = s_d0.iloc[-1]\n",
    "    ret += list(s_d0['N'])[-1:]\n",
    "    lam += list(l_d0)[-1:]\n",
    "    last_lambda = l_d0[-1]\n",
    "    last_d0 = ds_d0.iloc[-1]\n",
    "    \n",
    "p['d0'] = 0.6/780\n",
    "\n",
    "for i in range(10**6):\n",
    "    l_d0,s_d0,ds_d0 = ld.iterate(1000,s,p, verbose = False, dt=10**(-6), l = last_lambda, ds = last_d0)\n",
    "    s = s_d0.iloc[-1]\n",
    "    ret += list(s_d0['N'])[-1:]\n",
    "    lam += list(l_d0)[-1:]\n",
    "    last_lambda = l_d0[-1:]\n",
    "    last_d0 = ds_d0.iloc[-1:]\n",
    "    if(i % 10**5 == 0):\n",
    "        print('a')\n"
   ]
  },
  {
   "cell_type": "code",
   "execution_count": 54,
   "id": "685124a0",
   "metadata": {},
   "outputs": [
    {
     "data": {
      "text/plain": [
       "[<matplotlib.lines.Line2D at 0x198b0561f70>]"
      ]
     },
     "execution_count": 54,
     "metadata": {},
     "output_type": "execute_result"
    },
    {
     "data": {
      "image/png": "[encoded data removed]",
      "text/plain": [
       "<Figure size 432x288 with 1 Axes>"
      ]
     },
     "metadata": {
      "needs_background": "light"
     },
     "output_type": "display_data"
    }
   ],
   "source": [
    "plt.plot(ret_)"
   ]
  },
  {
   "cell_type": "code",
   "execution_count": 24,
   "id": "4051d5ca",
   "metadata": {},
   "outputs": [
    {
     "data": {
      "text/plain": [
       "[array([5.12945162e-02, 1.52692036e-05]),\n",
       " array([5.12949898e-02, 1.52682530e-05]),\n",
       " array([5.12954634e-02, 1.52673026e-05]),\n",
       " array([5.12959369e-02, 1.52663521e-05]),\n",
       " array([5.12964104e-02, 1.52654017e-05]),\n",
       " array([5.12968838e-02, 1.52644514e-05]),\n",
       " array([5.12973572e-02, 1.52635012e-05]),\n",
       " array([5.12978306e-02, 1.52625510e-05]),\n",
       " array([5.12983040e-02, 1.52616008e-05]),\n",
       " array([5.12987773e-02, 1.52606507e-05]),\n",
       " array([5.12992505e-02, 1.52597007e-05]),\n",
       " array([5.12997238e-02, 1.52587507e-05]),\n",
       " array([5.13001970e-02, 1.52578007e-05]),\n",
       " array([5.13006702e-02, 1.52568509e-05]),\n",
       " array([5.13011433e-02, 1.52559011e-05]),\n",
       " array([5.13016165e-02, 1.52549513e-05]),\n",
       " array([5.13020895e-02, 1.52540016e-05]),\n",
       " array([5.13025626e-02, 1.52530519e-05]),\n",
       " array([5.13030356e-02, 1.52521023e-05]),\n",
       " array([5.13035086e-02, 1.52511528e-05]),\n",
       " array([5.13039816e-02, 1.52502033e-05]),\n",
       " array([5.13044545e-02, 1.52492539e-05]),\n",
       " array([5.13049274e-02, 1.52483045e-05]),\n",
       " array([5.13054002e-02, 1.52473552e-05]),\n",
       " array([5.1305873e-02, 1.5246406e-05]),\n",
       " array([5.13063458e-02, 1.52454568e-05]),\n",
       " array([5.13068186e-02, 1.52445076e-05]),\n",
       " array([5.13072913e-02, 1.52435585e-05]),\n",
       " array([5.13077640e-02, 1.52426095e-05]),\n",
       " array([5.13082367e-02, 1.52416605e-05]),\n",
       " array([5.13087093e-02, 1.52407116e-05]),\n",
       " array([5.13091819e-02, 1.52397627e-05]),\n",
       " array([5.13096544e-02, 1.52388139e-05]),\n",
       " array([5.13101270e-02, 1.52378651e-05]),\n",
       " array([5.13105994e-02, 1.52369164e-05]),\n",
       " array([5.13110719e-02, 1.52359678e-05]),\n",
       " array([5.13115443e-02, 1.52350192e-05]),\n",
       " array([5.13120167e-02, 1.52340707e-05]),\n",
       " array([5.13124891e-02, 1.52331222e-05]),\n",
       " array([5.13129614e-02, 1.52321738e-05]),\n",
       " array([5.13134337e-02, 1.52312254e-05]),\n",
       " array([5.13139060e-02, 1.52302771e-05]),\n",
       " array([5.13143782e-02, 1.52293289e-05]),\n",
       " array([5.13148504e-02, 1.52283807e-05]),\n",
       " array([5.13153226e-02, 1.52274325e-05]),\n",
       " array([5.13157947e-02, 1.52264845e-05]),\n",
       " array([5.13162668e-02, 1.52255364e-05]),\n",
       " array([5.13167389e-02, 1.52245885e-05]),\n",
       " array([5.13172109e-02, 1.52236405e-05]),\n",
       " array([5.13176829e-02, 1.52226927e-05]),\n",
       " array([5.13181549e-02, 1.52217449e-05]),\n",
       " array([5.13186268e-02, 1.52207971e-05]),\n",
       " array([5.13190987e-02, 1.52198494e-05]),\n",
       " array([5.13195706e-02, 1.52189018e-05]),\n",
       " array([5.13200424e-02, 1.52179542e-05]),\n",
       " array([5.13205142e-02, 1.52170067e-05]),\n",
       " array([5.13209860e-02, 1.52160592e-05]),\n",
       " array([5.13214577e-02, 1.52151118e-05]),\n",
       " array([5.13219294e-02, 1.52141644e-05]),\n",
       " array([5.13224011e-02, 1.52132171e-05]),\n",
       " array([5.13228727e-02, 1.52122699e-05]),\n",
       " array([5.13233444e-02, 1.52113227e-05]),\n",
       " array([5.13238159e-02, 1.52103756e-05]),\n",
       " array([5.13242875e-02, 1.52094285e-05]),\n",
       " array([5.13247590e-02, 1.52084815e-05]),\n",
       " array([5.13252305e-02, 1.52075345e-05]),\n",
       " array([5.13257019e-02, 1.52065876e-05]),\n",
       " array([5.13261733e-02, 1.52056407e-05]),\n",
       " array([5.13266447e-02, 1.52046939e-05]),\n",
       " array([5.13271160e-02, 1.52037472e-05]),\n",
       " array([5.13275873e-02, 1.52028005e-05]),\n",
       " array([5.13280586e-02, 1.52018539e-05]),\n",
       " array([5.13285299e-02, 1.52009073e-05]),\n",
       " array([5.13290011e-02, 1.51999608e-05]),\n",
       " array([5.13294723e-02, 1.51990143e-05]),\n",
       " array([5.13299434e-02, 1.51980679e-05]),\n",
       " array([5.13304145e-02, 1.51971216e-05]),\n",
       " array([5.13308856e-02, 1.51961753e-05]),\n",
       " array([5.13313567e-02, 1.51952290e-05]),\n",
       " array([5.13318277e-02, 1.51942828e-05]),\n",
       " array([5.13322987e-02, 1.51933367e-05]),\n",
       " array([5.13327696e-02, 1.51923906e-05]),\n",
       " array([5.13332405e-02, 1.51914446e-05]),\n",
       " array([5.13337114e-02, 1.51904987e-05]),\n",
       " array([5.13341823e-02, 1.51895527e-05]),\n",
       " array([5.13346531e-02, 1.51886069e-05]),\n",
       " array([5.13351239e-02, 1.51876611e-05]),\n",
       " array([5.13355946e-02, 1.51867154e-05]),\n",
       " array([5.13360654e-02, 1.51857697e-05]),\n",
       " array([5.13365361e-02, 1.51848241e-05]),\n",
       " array([5.13370067e-02, 1.51838785e-05]),\n",
       " array([5.13374773e-02, 1.51829330e-05]),\n",
       " array([5.13379479e-02, 1.51819875e-05]),\n",
       " array([5.13384185e-02, 1.51810421e-05]),\n",
       " array([5.13388890e-02, 1.51800968e-05]),\n",
       " array([5.13393595e-02, 1.51791515e-05]),\n",
       " array([5.13398300e-02, 1.51782062e-05]),\n",
       " array([5.13403004e-02, 1.51772610e-05]),\n",
       " array([5.13407708e-02, 1.51763159e-05]),\n",
       " array([5.13412412e-02, 1.51753708e-05]),\n",
       " array([5.13417115e-02, 1.51744258e-05]),\n",
       " array([5.13421818e-02, 1.51734809e-05]),\n",
       " array([5.13426521e-02, 1.51725360e-05]),\n",
       " array([5.13431223e-02, 1.51715911e-05]),\n",
       " array([5.13435925e-02, 1.51706463e-05]),\n",
       " array([5.13440627e-02, 1.51697016e-05]),\n",
       " array([5.13445328e-02, 1.51687569e-05]),\n",
       " array([5.13450029e-02, 1.51678123e-05]),\n",
       " array([5.13454730e-02, 1.51668677e-05]),\n",
       " array([5.13459430e-02, 1.51659232e-05]),\n",
       " array([5.13464130e-02, 1.51649788e-05]),\n",
       " array([5.13468830e-02, 1.51640344e-05]),\n",
       " array([5.13473529e-02, 1.51630900e-05]),\n",
       " array([5.13478228e-02, 1.51621457e-05]),\n",
       " array([5.13482927e-02, 1.51612015e-05]),\n",
       " array([5.13487626e-02, 1.51602573e-05]),\n",
       " array([5.13492324e-02, 1.51593132e-05]),\n",
       " array([5.13497021e-02, 1.51583691e-05]),\n",
       " array([5.13501719e-02, 1.51574251e-05]),\n",
       " array([5.13506416e-02, 1.51564812e-05]),\n",
       " array([5.13511113e-02, 1.51555373e-05]),\n",
       " array([5.13515809e-02, 1.51545934e-05]),\n",
       " array([5.13520505e-02, 1.51536496e-05]),\n",
       " array([5.13525201e-02, 1.51527059e-05]),\n",
       " array([5.13529897e-02, 1.51517622e-05]),\n",
       " array([5.13534592e-02, 1.51508186e-05]),\n",
       " array([5.13539287e-02, 1.51498750e-05]),\n",
       " array([5.13543981e-02, 1.51489315e-05]),\n",
       " array([5.13548675e-02, 1.51479881e-05]),\n",
       " array([5.13553369e-02, 1.51470447e-05]),\n",
       " array([5.13558063e-02, 1.51461013e-05]),\n",
       " array([5.13562756e-02, 1.51451581e-05]),\n",
       " array([5.13567449e-02, 1.51442148e-05]),\n",
       " array([5.13572141e-02, 1.51432716e-05]),\n",
       " array([5.13576833e-02, 1.51423285e-05]),\n",
       " array([5.13581525e-02, 1.51413855e-05]),\n",
       " array([5.13586217e-02, 1.51404425e-05]),\n",
       " array([5.13590908e-02, 1.51394995e-05]),\n",
       " array([5.13595599e-02, 1.51385566e-05]),\n",
       " array([5.13600290e-02, 1.51376138e-05]),\n",
       " array([5.1360498e-02, 1.5136671e-05]),\n",
       " array([5.13609670e-02, 1.51357283e-05]),\n",
       " array([5.13614360e-02, 1.51347856e-05]),\n",
       " array([5.13619049e-02, 1.51338430e-05]),\n",
       " array([5.13623738e-02, 1.51329004e-05]),\n",
       " array([5.13628426e-02, 1.51319579e-05]),\n",
       " array([5.13633115e-02, 1.51310154e-05]),\n",
       " array([5.13637803e-02, 1.51300730e-05]),\n",
       " array([5.13642490e-02, 1.51291307e-05]),\n",
       " array([5.13647178e-02, 1.51281884e-05]),\n",
       " array([5.13651865e-02, 1.51272462e-05]),\n",
       " array([5.13656551e-02, 1.51263040e-05]),\n",
       " array([5.13661238e-02, 1.51253619e-05]),\n",
       " array([5.13665924e-02, 1.51244198e-05]),\n",
       " array([5.13670610e-02, 1.51234778e-05]),\n",
       " array([5.13675295e-02, 1.51225359e-05]),\n",
       " array([5.1367998e-02, 1.5121594e-05]),\n",
       " array([5.13684665e-02, 1.51206522e-05]),\n",
       " array([5.13689349e-02, 1.51197104e-05]),\n",
       " array([5.13694033e-02, 1.51187686e-05]),\n",
       " array([5.13698717e-02, 1.51178270e-05]),\n",
       " array([5.13703400e-02, 1.51168854e-05]),\n",
       " array([5.13708084e-02, 1.51159438e-05]),\n",
       " array([5.13712766e-02, 1.51150023e-05]),\n",
       " array([5.13717449e-02, 1.51140608e-05]),\n",
       " array([5.13722131e-02, 1.51131194e-05]),\n",
       " array([5.13726813e-02, 1.51121781e-05]),\n",
       " array([5.13731494e-02, 1.51112368e-05]),\n",
       " array([5.13736175e-02, 1.51102956e-05]),\n",
       " array([5.13740856e-02, 1.51093544e-05]),\n",
       " array([5.13745537e-02, 1.51084133e-05]),\n",
       " array([5.13750217e-02, 1.51074722e-05]),\n",
       " array([5.13754897e-02, 1.51065312e-05]),\n",
       " array([5.13759576e-02, 1.51055903e-05]),\n",
       " array([5.13764255e-02, 1.51046494e-05]),\n",
       " array([5.13768934e-02, 1.51037086e-05]),\n",
       " array([5.13773613e-02, 1.51027678e-05]),\n",
       " array([5.13778291e-02, 1.51018270e-05]),\n",
       " array([5.13782969e-02, 1.51008864e-05]),\n",
       " array([5.13787647e-02, 1.50999458e-05]),\n",
       " array([5.13792324e-02, 1.50990052e-05]),\n",
       " array([5.13797001e-02, 1.50980647e-05]),\n",
       " array([5.13801677e-02, 1.50971242e-05]),\n",
       " array([5.13806354e-02, 1.50961839e-05]),\n",
       " array([5.13811030e-02, 1.50952435e-05]),\n",
       " array([5.13815705e-02, 1.50943032e-05]),\n",
       " array([5.13820381e-02, 1.50933630e-05]),\n",
       " array([5.13825056e-02, 1.50924228e-05]),\n",
       " array([5.13829730e-02, 1.50914827e-05]),\n",
       " array([5.13834405e-02, 1.50905427e-05]),\n",
       " array([5.13839079e-02, 1.50896027e-05]),\n",
       " array([5.13843752e-02, 1.50886627e-05]),\n",
       " array([5.13848426e-02, 1.50877228e-05]),\n",
       " array([5.13853099e-02, 1.50867830e-05]),\n",
       " array([5.13857772e-02, 1.50858432e-05]),\n",
       " array([5.13862444e-02, 1.50849035e-05]),\n",
       " array([5.13867116e-02, 1.50839638e-05]),\n",
       " array([5.13871788e-02, 1.50830242e-05]),\n",
       " array([5.13876459e-02, 1.50820846e-05]),\n",
       " array([5.13881130e-02, 1.50811451e-05]),\n",
       " array([5.13885801e-02, 1.50802057e-05]),\n",
       " array([5.13890472e-02, 1.50792663e-05]),\n",
       " array([5.13895142e-02, 1.50783269e-05]),\n",
       " array([5.13899811e-02, 1.50773876e-05]),\n",
       " array([5.13904481e-02, 1.50764484e-05]),\n",
       " array([5.13909150e-02, 1.50755092e-05]),\n",
       " array([5.13913819e-02, 1.50745701e-05]),\n",
       " array([5.13918487e-02, 1.50736311e-05]),\n",
       " array([5.13923156e-02, 1.50726921e-05]),\n",
       " array([5.13927823e-02, 1.50717531e-05]),\n",
       " array([5.13932491e-02, 1.50708142e-05]),\n",
       " array([5.13937158e-02, 1.50698754e-05]),\n",
       " array([5.13941825e-02, 1.50689366e-05]),\n",
       " array([5.13946492e-02, 1.50679979e-05]),\n",
       " array([5.13951158e-02, 1.50670592e-05]),\n",
       " array([5.13955824e-02, 1.50661206e-05]),\n",
       " array([5.13960489e-02, 1.50651820e-05]),\n",
       " array([5.13965155e-02, 1.50642435e-05]),\n",
       " array([5.13969820e-02, 1.50633051e-05]),\n",
       " array([5.13974484e-02, 1.50623667e-05]),\n",
       " array([5.13979149e-02, 1.50614283e-05]),\n",
       " array([5.13983813e-02, 1.50604901e-05]),\n",
       " array([5.13988476e-02, 1.50595518e-05]),\n",
       " array([5.13993140e-02, 1.50586137e-05]),\n",
       " array([5.13997803e-02, 1.50576755e-05]),\n",
       " array([5.14002465e-02, 1.50567375e-05]),\n",
       " array([5.14007128e-02, 1.50557995e-05]),\n",
       " array([5.14011790e-02, 1.50548615e-05]),\n",
       " array([5.14016451e-02, 1.50539236e-05]),\n",
       " array([5.14021113e-02, 1.50529858e-05]),\n",
       " array([5.14025774e-02, 1.50520480e-05]),\n",
       " array([5.14030434e-02, 1.50511103e-05]),\n",
       " array([5.14035095e-02, 1.50501726e-05]),\n",
       " array([5.14039755e-02, 1.50492350e-05]),\n",
       " array([5.14044415e-02, 1.50482974e-05]),\n",
       " array([5.14049074e-02, 1.50473599e-05]),\n",
       " array([5.14053733e-02, 1.50464225e-05]),\n",
       " array([5.14058392e-02, 1.50454851e-05]),\n",
       " array([5.14063051e-02, 1.50445477e-05]),\n",
       " array([5.14067709e-02, 1.50436104e-05]),\n",
       " array([5.14072367e-02, 1.50426732e-05]),\n",
       " array([5.14077024e-02, 1.50417360e-05]),\n",
       " array([5.14081681e-02, 1.50407989e-05]),\n",
       " array([5.14086338e-02, 1.50398618e-05]),\n",
       " array([5.14090995e-02, 1.50389248e-05]),\n",
       " array([5.14095651e-02, 1.50379879e-05]),\n",
       " array([5.14100307e-02, 1.50370510e-05]),\n",
       " array([5.14104962e-02, 1.50361141e-05]),\n",
       " array([5.14109618e-02, 1.50351774e-05]),\n",
       " array([5.14114273e-02, 1.50342406e-05]),\n",
       " array([5.14118927e-02, 1.50333039e-05]),\n",
       " array([5.14123581e-02, 1.50323673e-05]),\n",
       " array([5.14128235e-02, 1.50314308e-05]),\n",
       " array([5.14132889e-02, 1.50304943e-05]),\n",
       " array([5.14137542e-02, 1.50295578e-05]),\n",
       " array([5.14142195e-02, 1.50286214e-05]),\n",
       " array([5.14146848e-02, 1.50276851e-05]),\n",
       " array([5.14151500e-02, 1.50267488e-05]),\n",
       " array([5.14156152e-02, 1.50258125e-05]),\n",
       " array([5.14160804e-02, 1.50248764e-05]),\n",
       " array([5.14165455e-02, 1.50239402e-05]),\n",
       " array([5.14170107e-02, 1.50230042e-05]),\n",
       " array([5.14174757e-02, 1.50220682e-05]),\n",
       " array([5.14179408e-02, 1.50211322e-05]),\n",
       " array([5.14184058e-02, 1.50201963e-05]),\n",
       " array([5.14188707e-02, 1.50192605e-05]),\n",
       " array([5.14193357e-02, 1.50183247e-05]),\n",
       " array([5.14198006e-02, 1.50173889e-05]),\n",
       " array([5.14202655e-02, 1.50164533e-05]),\n",
       " array([5.14207303e-02, 1.50155176e-05]),\n",
       " array([5.14211951e-02, 1.50145821e-05]),\n",
       " array([5.14216599e-02, 1.50136466e-05]),\n",
       " array([5.14221247e-02, 1.50127111e-05]),\n",
       " array([5.14225894e-02, 1.50117757e-05]),\n",
       " array([5.14230541e-02, 1.50108403e-05]),\n",
       " array([5.14235187e-02, 1.50099051e-05]),\n",
       " array([5.14239834e-02, 1.50089698e-05]),\n",
       " array([5.14244480e-02, 1.50080346e-05]),\n",
       " array([5.14249125e-02, 1.50070995e-05]),\n",
       " array([5.14253770e-02, 1.50061644e-05]),\n",
       " array([5.14258415e-02, 1.50052294e-05]),\n",
       " array([5.14263060e-02, 1.50042945e-05]),\n",
       " array([5.14267704e-02, 1.50033596e-05]),\n",
       " array([5.14272348e-02, 1.50024247e-05]),\n",
       " array([5.14276992e-02, 1.50014899e-05]),\n",
       " array([5.14281635e-02, 1.50005552e-05]),\n",
       " array([5.14286278e-02, 1.49996205e-05]),\n",
       " array([5.14290921e-02, 1.49986859e-05]),\n",
       " array([5.14295563e-02, 1.49977513e-05]),\n",
       " array([5.14300205e-02, 1.49968168e-05]),\n",
       " array([5.14304847e-02, 1.49958823e-05]),\n",
       " array([5.14309488e-02, 1.49949479e-05]),\n",
       " array([5.14314129e-02, 1.49940136e-05]),\n",
       " array([5.14318770e-02, 1.49930793e-05]),\n",
       " array([5.1432341e-02, 1.4992145e-05]),\n",
       " array([5.14328051e-02, 1.49912109e-05]),\n",
       " array([5.14332690e-02, 1.49902767e-05]),\n",
       " array([5.14337330e-02, 1.49893426e-05]),\n",
       " array([5.14341969e-02, 1.49884086e-05]),\n",
       " array([5.14346608e-02, 1.49874747e-05]),\n",
       " array([5.14351246e-02, 1.49865408e-05]),\n",
       " array([5.14355884e-02, 1.49856069e-05]),\n",
       " array([5.14360522e-02, 1.49846731e-05]),\n",
       " array([5.14365160e-02, 1.49837394e-05]),\n",
       " array([5.14369797e-02, 1.49828057e-05]),\n",
       " array([5.14374434e-02, 1.49818720e-05]),\n",
       " array([5.14379071e-02, 1.49809385e-05]),\n",
       " array([5.14383707e-02, 1.49800050e-05]),\n",
       " array([5.14388343e-02, 1.49790715e-05]),\n",
       " array([5.14392978e-02, 1.49781381e-05]),\n",
       " array([5.14397614e-02, 1.49772047e-05]),\n",
       " array([5.14402249e-02, 1.49762714e-05]),\n",
       " array([5.14406883e-02, 1.49753382e-05]),\n",
       " array([5.14411517e-02, 1.49744050e-05]),\n",
       " array([5.14416151e-02, 1.49734718e-05]),\n",
       " array([5.14420785e-02, 1.49725388e-05]),\n",
       " array([5.14425418e-02, 1.49716057e-05]),\n",
       " array([5.14430052e-02, 1.49706728e-05]),\n",
       " array([5.14434684e-02, 1.49697399e-05]),\n",
       " array([5.14439317e-02, 1.49688070e-05]),\n",
       " array([5.14443949e-02, 1.49678742e-05]),\n",
       " array([5.14448580e-02, 1.49669415e-05]),\n",
       " array([5.14453212e-02, 1.49660088e-05]),\n",
       " array([5.14457843e-02, 1.49650761e-05]),\n",
       " array([5.14462474e-02, 1.49641435e-05]),\n",
       " array([5.14467104e-02, 1.49632110e-05]),\n",
       " array([5.14471734e-02, 1.49622785e-05]),\n",
       " array([5.14476364e-02, 1.49613461e-05]),\n",
       " array([5.14480994e-02, 1.49604138e-05]),\n",
       " array([5.14485623e-02, 1.49594815e-05]),\n",
       " array([5.14490252e-02, 1.49585492e-05]),\n",
       " array([5.1449488e-02, 1.4957617e-05]),\n",
       " array([5.14499508e-02, 1.49566849e-05]),\n",
       " array([5.14504136e-02, 1.49557528e-05]),\n",
       " array([5.14508764e-02, 1.49548208e-05]),\n",
       " array([5.14513391e-02, 1.49538888e-05]),\n",
       " array([5.14518018e-02, 1.49529569e-05]),\n",
       " array([5.14522645e-02, 1.49520250e-05]),\n",
       " array([5.14527271e-02, 1.49510932e-05]),\n",
       " array([5.14531897e-02, 1.49501614e-05]),\n",
       " array([5.14536523e-02, 1.49492297e-05]),\n",
       " array([5.14541148e-02, 1.49482981e-05]),\n",
       " array([5.14545773e-02, 1.49473665e-05]),\n",
       " array([5.14550398e-02, 1.49464350e-05]),\n",
       " array([5.14555022e-02, 1.49455035e-05]),\n",
       " array([5.14559646e-02, 1.49445721e-05]),\n",
       " array([5.14564270e-02, 1.49436407e-05]),\n",
       " array([5.14568893e-02, 1.49427094e-05]),\n",
       " array([5.14573516e-02, 1.49417781e-05]),\n",
       " array([5.14578139e-02, 1.49408469e-05]),\n",
       " array([5.14582762e-02, 1.49399158e-05]),\n",
       " array([5.14587384e-02, 1.49389847e-05]),\n",
       " array([5.14592006e-02, 1.49380537e-05]),\n",
       " array([5.14596627e-02, 1.49371227e-05]),\n",
       " array([5.14601248e-02, 1.49361918e-05]),\n",
       " array([5.14605869e-02, 1.49352609e-05]),\n",
       " array([5.14610490e-02, 1.49343301e-05]),\n",
       " array([5.14615110e-02, 1.49333993e-05]),\n",
       " array([5.14619730e-02, 1.49324686e-05]),\n",
       " array([5.14624349e-02, 1.49315380e-05]),\n",
       " array([5.14628968e-02, 1.49306074e-05]),\n",
       " array([5.14633587e-02, 1.49296768e-05]),\n",
       " array([5.14638206e-02, 1.49287463e-05]),\n",
       " array([5.14642824e-02, 1.49278159e-05]),\n",
       " array([5.14647442e-02, 1.49268855e-05]),\n",
       " array([5.14652060e-02, 1.49259552e-05]),\n",
       " array([5.14656677e-02, 1.49250250e-05]),\n",
       " array([5.14661294e-02, 1.49240948e-05]),\n",
       " array([5.14665911e-02, 1.49231646e-05]),\n",
       " array([5.14670527e-02, 1.49222345e-05]),\n",
       " array([5.14675143e-02, 1.49213045e-05]),\n",
       " array([5.14679759e-02, 1.49203745e-05]),\n",
       " array([5.14684374e-02, 1.49194445e-05]),\n",
       " array([5.14688990e-02, 1.49185147e-05]),\n",
       " array([5.14693604e-02, 1.49175848e-05]),\n",
       " array([5.14698219e-02, 1.49166551e-05]),\n",
       " array([5.14702833e-02, 1.49157254e-05]),\n",
       " array([5.14707447e-02, 1.49147957e-05]),\n",
       " array([5.14712060e-02, 1.49138661e-05]),\n",
       " array([5.14716673e-02, 1.49129365e-05]),\n",
       " array([5.14721286e-02, 1.49120071e-05]),\n",
       " array([5.14725899e-02, 1.49110776e-05]),\n",
       " array([5.14730511e-02, 1.49101482e-05]),\n",
       " array([5.14735123e-02, 1.49092189e-05]),\n",
       " array([5.14739734e-02, 1.49082896e-05]),\n",
       " array([5.14744346e-02, 1.49073604e-05]),\n",
       " array([5.14748957e-02, 1.49064313e-05]),\n",
       " array([5.14753567e-02, 1.49055022e-05]),\n",
       " array([5.14758178e-02, 1.49045731e-05]),\n",
       " array([5.14762788e-02, 1.49036441e-05]),\n",
       " array([5.14767397e-02, 1.49027152e-05]),\n",
       " array([5.14772007e-02, 1.49017863e-05]),\n",
       " array([5.14776616e-02, 1.49008574e-05]),\n",
       " array([5.14781224e-02, 1.48999287e-05]),\n",
       " array([5.14785833e-02, 1.48989999e-05]),\n",
       " array([5.14790441e-02, 1.48980713e-05]),\n",
       " array([5.14795048e-02, 1.48971427e-05]),\n",
       " array([5.14799656e-02, 1.48962141e-05]),\n",
       " array([5.14804263e-02, 1.48952856e-05]),\n",
       " array([5.14808870e-02, 1.48943572e-05]),\n",
       " array([5.14813476e-02, 1.48934288e-05]),\n",
       " array([5.14818082e-02, 1.48925004e-05]),\n",
       " array([5.14822688e-02, 1.48915722e-05]),\n",
       " array([5.14827294e-02, 1.48906439e-05]),\n",
       " array([5.14831899e-02, 1.48897158e-05]),\n",
       " array([5.14836504e-02, 1.48887877e-05]),\n",
       " array([5.14841108e-02, 1.48878596e-05]),\n",
       " array([5.14845713e-02, 1.48869316e-05]),\n",
       " array([5.14850317e-02, 1.48860036e-05]),\n",
       " array([5.14854920e-02, 1.48850757e-05]),\n",
       " array([5.14859523e-02, 1.48841479e-05]),\n",
       " array([5.14864126e-02, 1.48832201e-05]),\n",
       " array([5.14868729e-02, 1.48822924e-05]),\n",
       " array([5.14873331e-02, 1.48813647e-05]),\n",
       " array([5.14877933e-02, 1.48804371e-05]),\n",
       " array([5.14882535e-02, 1.48795095e-05]),\n",
       " array([5.14887136e-02, 1.48785820e-05]),\n",
       " array([5.14891737e-02, 1.48776546e-05]),\n",
       " array([5.14896338e-02, 1.48767272e-05]),\n",
       " array([5.14900939e-02, 1.48757998e-05]),\n",
       " array([5.14905539e-02, 1.48748725e-05]),\n",
       " array([5.14910138e-02, 1.48739453e-05]),\n",
       " array([5.14914738e-02, 1.48730181e-05]),\n",
       " array([5.14919337e-02, 1.48720910e-05]),\n",
       " array([5.14923936e-02, 1.48711639e-05]),\n",
       " array([5.14928534e-02, 1.48702369e-05]),\n",
       " array([5.14933133e-02, 1.48693099e-05]),\n",
       " array([5.1493773e-02, 1.4868383e-05]),\n",
       " array([5.14942328e-02, 1.48674562e-05]),\n",
       " array([5.14946925e-02, 1.48665294e-05]),\n",
       " array([5.14951522e-02, 1.48656027e-05]),\n",
       " array([5.14956119e-02, 1.48646760e-05]),\n",
       " array([5.14960715e-02, 1.48637493e-05]),\n",
       " array([5.14965311e-02, 1.48628228e-05]),\n",
       " array([5.14969906e-02, 1.48618962e-05]),\n",
       " array([5.14974502e-02, 1.48609698e-05]),\n",
       " array([5.14979097e-02, 1.48600434e-05]),\n",
       " array([5.14983691e-02, 1.48591170e-05]),\n",
       " array([5.14988286e-02, 1.48581907e-05]),\n",
       " array([5.14992880e-02, 1.48572645e-05]),\n",
       " array([5.14997474e-02, 1.48563383e-05]),\n",
       " array([5.15002067e-02, 1.48554121e-05]),\n",
       " array([5.15006660e-02, 1.48544861e-05]),\n",
       " array([5.15011253e-02, 1.48535600e-05]),\n",
       " array([5.15015845e-02, 1.48526341e-05]),\n",
       " array([5.15020437e-02, 1.48517082e-05]),\n",
       " array([5.15025029e-02, 1.48507823e-05]),\n",
       " array([5.15029621e-02, 1.48498565e-05]),\n",
       " array([5.15034212e-02, 1.48489307e-05]),\n",
       " array([5.15038803e-02, 1.48480050e-05]),\n",
       " array([5.15043393e-02, 1.48470794e-05]),\n",
       " array([5.15047984e-02, 1.48461538e-05]),\n",
       " array([5.15052574e-02, 1.48452283e-05]),\n",
       " array([5.15057163e-02, 1.48443028e-05]),\n",
       " array([5.15061752e-02, 1.48433774e-05]),\n",
       " array([5.15066341e-02, 1.48424520e-05]),\n",
       " array([5.15070930e-02, 1.48415267e-05]),\n",
       " array([5.15075518e-02, 1.48406015e-05]),\n",
       " array([5.15080106e-02, 1.48396763e-05]),\n",
       " array([5.15084694e-02, 1.48387511e-05]),\n",
       " array([5.15089281e-02, 1.48378260e-05]),\n",
       " array([5.15093868e-02, 1.48369010e-05]),\n",
       " array([5.15098455e-02, 1.48359760e-05]),\n",
       " array([5.15103042e-02, 1.48350511e-05]),\n",
       " array([5.15107628e-02, 1.48341262e-05]),\n",
       " array([5.15112214e-02, 1.48332014e-05]),\n",
       " array([5.15116799e-02, 1.48322766e-05]),\n",
       " array([5.15121384e-02, 1.48313519e-05]),\n",
       " array([5.15125969e-02, 1.48304273e-05]),\n",
       " array([5.15130553e-02, 1.48295027e-05]),\n",
       " array([5.15135138e-02, 1.48285781e-05]),\n",
       " array([5.15139722e-02, 1.48276536e-05]),\n",
       " array([5.15144305e-02, 1.48267292e-05]),\n",
       " array([5.15148888e-02, 1.48258048e-05]),\n",
       " array([5.15153471e-02, 1.48248805e-05]),\n",
       " array([5.15158054e-02, 1.48239562e-05]),\n",
       " array([5.15162636e-02, 1.48230320e-05]),\n",
       " array([5.15167218e-02, 1.48221079e-05]),\n",
       " array([5.15171800e-02, 1.48211838e-05]),\n",
       " array([5.15176381e-02, 1.48202597e-05]),\n",
       " array([5.15180962e-02, 1.48193357e-05]),\n",
       " array([5.15185543e-02, 1.48184118e-05]),\n",
       " array([5.15190123e-02, 1.48174879e-05]),\n",
       " array([5.15194703e-02, 1.48165641e-05]),\n",
       " array([5.15199283e-02, 1.48156403e-05]),\n",
       " array([5.15203863e-02, 1.48147166e-05]),\n",
       " array([5.15208442e-02, 1.48137929e-05]),\n",
       " array([5.15213021e-02, 1.48128693e-05]),\n",
       " array([5.15217599e-02, 1.48119457e-05]),\n",
       " array([5.15222177e-02, 1.48110222e-05]),\n",
       " array([5.15226755e-02, 1.48100988e-05]),\n",
       " array([5.15231333e-02, 1.48091754e-05]),\n",
       " array([5.15235910e-02, 1.48082521e-05]),\n",
       " array([5.15240487e-02, 1.48073288e-05]),\n",
       " array([5.15245063e-02, 1.48064056e-05]),\n",
       " array([5.15249640e-02, 1.48054824e-05]),\n",
       " array([5.15254216e-02, 1.48045593e-05]),\n",
       " array([5.15258791e-02, 1.48036362e-05]),\n",
       " array([5.15263367e-02, 1.48027132e-05]),\n",
       " array([5.15267942e-02, 1.48017903e-05]),\n",
       " array([5.15272516e-02, 1.48008674e-05]),\n",
       " array([5.15277091e-02, 1.47999445e-05]),\n",
       " array([5.15281665e-02, 1.47990217e-05]),\n",
       " array([5.15286238e-02, 1.47980990e-05]),\n",
       " array([5.15290812e-02, 1.47971763e-05]),\n",
       " array([5.15295385e-02, 1.47962537e-05]),\n",
       " array([5.15299958e-02, 1.47953311e-05]),\n",
       " array([5.15304530e-02, 1.47944086e-05]),\n",
       " array([5.15309102e-02, 1.47934862e-05]),\n",
       " array([5.15313674e-02, 1.47925638e-05]),\n",
       " array([5.15318246e-02, 1.47916414e-05]),\n",
       " array([5.15322817e-02, 1.47907191e-05]),\n",
       " array([5.15327388e-02, 1.47897969e-05]),\n",
       " array([5.15331958e-02, 1.47888747e-05]),\n",
       " array([5.15336529e-02, 1.47879526e-05]),\n",
       " array([5.15341099e-02, 1.47870305e-05]),\n",
       " array([5.15345668e-02, 1.47861085e-05]),\n",
       " array([5.15350238e-02, 1.47851865e-05]),\n",
       " array([5.15354807e-02, 1.47842646e-05]),\n",
       " array([5.15359375e-02, 1.47833427e-05]),\n",
       " array([5.15363944e-02, 1.47824209e-05]),\n",
       " array([5.15368512e-02, 1.47814992e-05]),\n",
       " array([5.15373079e-02, 1.47805775e-05]),\n",
       " array([5.15377647e-02, 1.47796559e-05]),\n",
       " array([5.15382214e-02, 1.47787343e-05]),\n",
       " array([5.15386781e-02, 1.47778128e-05]),\n",
       " array([5.15391347e-02, 1.47768913e-05]),\n",
       " array([5.15395913e-02, 1.47759699e-05]),\n",
       " array([5.15400479e-02, 1.47750485e-05]),\n",
       " array([5.15405045e-02, 1.47741272e-05]),\n",
       " array([5.1540961e-02, 1.4773206e-05]),\n",
       " array([5.15414175e-02, 1.47722848e-05]),\n",
       " array([5.15418739e-02, 1.47713636e-05]),\n",
       " array([5.15423304e-02, 1.47704425e-05]),\n",
       " array([5.15427868e-02, 1.47695215e-05]),\n",
       " array([5.15432431e-02, 1.47686005e-05]),\n",
       " array([5.15436994e-02, 1.47676796e-05]),\n",
       " array([5.15441557e-02, 1.47667587e-05]),\n",
       " array([5.15446120e-02, 1.47658379e-05]),\n",
       " array([5.15450683e-02, 1.47649171e-05]),\n",
       " array([5.15455245e-02, 1.47639964e-05]),\n",
       " array([5.15459806e-02, 1.47630758e-05]),\n",
       " array([5.15464368e-02, 1.47621552e-05]),\n",
       " array([5.15468929e-02, 1.47612346e-05]),\n",
       " array([5.15473490e-02, 1.47603142e-05]),\n",
       " array([5.15478050e-02, 1.47593937e-05]),\n",
       " array([5.15482610e-02, 1.47584734e-05]),\n",
       " array([5.1548717e-02, 1.4757553e-05]),\n",
       " array([5.15491730e-02, 1.47566328e-05]),\n",
       " array([5.15496289e-02, 1.47557125e-05]),\n",
       " array([5.15500848e-02, 1.47547924e-05]),\n",
       " array([5.15505406e-02, 1.47538723e-05]),\n",
       " array([5.15509965e-02, 1.47529522e-05]),\n",
       " array([5.15514523e-02, 1.47520322e-05]),\n",
       " array([5.15519080e-02, 1.47511123e-05]),\n",
       " array([5.15523638e-02, 1.47501924e-05]),\n",
       " array([5.15528195e-02, 1.47492726e-05]),\n",
       " array([5.15532751e-02, 1.47483528e-05]),\n",
       " array([5.15537308e-02, 1.47474331e-05]),\n",
       " array([5.15541864e-02, 1.47465134e-05]),\n",
       " array([5.15546419e-02, 1.47455938e-05]),\n",
       " array([5.15550975e-02, 1.47446743e-05]),\n",
       " array([5.15555530e-02, 1.47437548e-05]),\n",
       " array([5.15560085e-02, 1.47428353e-05]),\n",
       " array([5.15564639e-02, 1.47419159e-05]),\n",
       " array([5.15569193e-02, 1.47409966e-05]),\n",
       " array([5.15573747e-02, 1.47400773e-05]),\n",
       " array([5.15578301e-02, 1.47391581e-05]),\n",
       " array([5.15582854e-02, 1.47382389e-05]),\n",
       " array([5.15587407e-02, 1.47373198e-05]),\n",
       " array([5.15591960e-02, 1.47364007e-05]),\n",
       " array([5.15596512e-02, 1.47354817e-05]),\n",
       " array([5.15601064e-02, 1.47345627e-05]),\n",
       " array([5.15605615e-02, 1.47336438e-05]),\n",
       " array([5.15610167e-02, 1.47327250e-05]),\n",
       " array([5.15614718e-02, 1.47318062e-05]),\n",
       " array([5.15619268e-02, 1.47308875e-05]),\n",
       " array([5.15623819e-02, 1.47299688e-05]),\n",
       " array([5.15628369e-02, 1.47290502e-05]),\n",
       " array([5.15632919e-02, 1.47281316e-05]),\n",
       " array([5.15637468e-02, 1.47272131e-05]),\n",
       " array([5.15642017e-02, 1.47262946e-05]),\n",
       " array([5.15646566e-02, 1.47253762e-05]),\n",
       " array([5.15651115e-02, 1.47244578e-05]),\n",
       " array([5.15655663e-02, 1.47235395e-05]),\n",
       " array([5.15660211e-02, 1.47226213e-05]),\n",
       " array([5.15664758e-02, 1.47217031e-05]),\n",
       " array([5.15669306e-02, 1.47207850e-05]),\n",
       " array([5.15673852e-02, 1.47198669e-05]),\n",
       " array([5.15678399e-02, 1.47189489e-05]),\n",
       " array([5.15682945e-02, 1.47180309e-05]),\n",
       " array([5.15687491e-02, 1.47171130e-05]),\n",
       " array([5.15692037e-02, 1.47161951e-05]),\n",
       " array([5.15696582e-02, 1.47152773e-05]),\n",
       " array([5.15701127e-02, 1.47143595e-05]),\n",
       " array([5.15705672e-02, 1.47134418e-05]),\n",
       " array([5.15710217e-02, 1.47125242e-05]),\n",
       " array([5.15714761e-02, 1.47116066e-05]),\n",
       " array([5.15719305e-02, 1.47106891e-05]),\n",
       " array([5.15723848e-02, 1.47097716e-05]),\n",
       " array([5.15728391e-02, 1.47088542e-05]),\n",
       " array([5.15732934e-02, 1.47079368e-05]),\n",
       " array([5.15737477e-02, 1.47070195e-05]),\n",
       " array([5.15742019e-02, 1.47061022e-05]),\n",
       " array([5.15746561e-02, 1.47051850e-05]),\n",
       " array([5.15751102e-02, 1.47042678e-05]),\n",
       " array([5.15755644e-02, 1.47033507e-05]),\n",
       " array([5.15760185e-02, 1.47024337e-05]),\n",
       " array([5.15764725e-02, 1.47015167e-05]),\n",
       " array([5.15769266e-02, 1.47005998e-05]),\n",
       " array([5.15773806e-02, 1.46996829e-05]),\n",
       " array([5.15778345e-02, 1.46987661e-05]),\n",
       " array([5.15782885e-02, 1.46978493e-05]),\n",
       " array([5.15787424e-02, 1.46969326e-05]),\n",
       " array([5.15791962e-02, 1.46960159e-05]),\n",
       " array([5.15796501e-02, 1.46950993e-05]),\n",
       " array([5.15801039e-02, 1.46941828e-05]),\n",
       " array([5.15805577e-02, 1.46932663e-05]),\n",
       " array([5.15810114e-02, 1.46923498e-05]),\n",
       " array([5.15814652e-02, 1.46914334e-05]),\n",
       " array([5.15819189e-02, 1.46905171e-05]),\n",
       " array([5.15823725e-02, 1.46896008e-05]),\n",
       " array([5.15828261e-02, 1.46886846e-05]),\n",
       " array([5.15832797e-02, 1.46877684e-05]),\n",
       " array([5.15837333e-02, 1.46868523e-05]),\n",
       " array([5.15841868e-02, 1.46859362e-05]),\n",
       " array([5.15846403e-02, 1.46850202e-05]),\n",
       " array([5.15850938e-02, 1.46841043e-05]),\n",
       " array([5.15855472e-02, 1.46831884e-05]),\n",
       " array([5.15860006e-02, 1.46822725e-05]),\n",
       " array([5.15864540e-02, 1.46813567e-05]),\n",
       " array([5.15869074e-02, 1.46804410e-05]),\n",
       " array([5.15873607e-02, 1.46795253e-05]),\n",
       " array([5.15878140e-02, 1.46786097e-05]),\n",
       " array([5.15882672e-02, 1.46776941e-05]),\n",
       " array([5.15887204e-02, 1.46767786e-05]),\n",
       " array([5.15891736e-02, 1.46758631e-05]),\n",
       " array([5.15896268e-02, 1.46749477e-05]),\n",
       " array([5.15900799e-02, 1.46740324e-05]),\n",
       " array([5.15905330e-02, 1.46731171e-05]),\n",
       " array([5.15909860e-02, 1.46722018e-05]),\n",
       " array([5.15914391e-02, 1.46712866e-05]),\n",
       " array([5.15918921e-02, 1.46703715e-05]),\n",
       " array([5.15923450e-02, 1.46694564e-05]),\n",
       " array([5.15927980e-02, 1.46685414e-05]),\n",
       " array([5.15932509e-02, 1.46676264e-05]),\n",
       " array([5.15937038e-02, 1.46667115e-05]),\n",
       " array([5.15941566e-02, 1.46657966e-05]),\n",
       " array([5.15946094e-02, 1.46648818e-05]),\n",
       " array([5.15950622e-02, 1.46639671e-05]),\n",
       " array([5.15955150e-02, 1.46630524e-05]),\n",
       " array([5.15959677e-02, 1.46621377e-05]),\n",
       " array([5.15964204e-02, 1.46612231e-05]),\n",
       " array([5.15968730e-02, 1.46603086e-05]),\n",
       " array([5.15973256e-02, 1.46593941e-05]),\n",
       " array([5.15977782e-02, 1.46584797e-05]),\n",
       " array([5.15982308e-02, 1.46575653e-05]),\n",
       " array([5.15986833e-02, 1.46566510e-05]),\n",
       " array([5.15991358e-02, 1.46557367e-05]),\n",
       " array([5.15995883e-02, 1.46548225e-05]),\n",
       " array([5.16000407e-02, 1.46539084e-05]),\n",
       " array([5.16004931e-02, 1.46529943e-05]),\n",
       " array([5.16009455e-02, 1.46520802e-05]),\n",
       " array([5.16013978e-02, 1.46511662e-05]),\n",
       " array([5.16018502e-02, 1.46502523e-05]),\n",
       " array([5.16023024e-02, 1.46493384e-05]),\n",
       " array([5.16027547e-02, 1.46484246e-05]),\n",
       " array([5.16032069e-02, 1.46475108e-05]),\n",
       " array([5.16036591e-02, 1.46465971e-05]),\n",
       " array([5.16041112e-02, 1.46456834e-05]),\n",
       " array([5.16045634e-02, 1.46447698e-05]),\n",
       " array([5.16050155e-02, 1.46438563e-05]),\n",
       " array([5.16054675e-02, 1.46429428e-05]),\n",
       " array([5.16059196e-02, 1.46420293e-05]),\n",
       " array([5.16063716e-02, 1.46411159e-05]),\n",
       " array([5.16068235e-02, 1.46402026e-05]),\n",
       " array([5.16072755e-02, 1.46392893e-05]),\n",
       " array([5.16077274e-02, 1.46383761e-05]),\n",
       " array([5.16081792e-02, 1.46374629e-05]),\n",
       " array([5.16086311e-02, 1.46365498e-05]),\n",
       " array([5.16090829e-02, 1.46356367e-05]),\n",
       " array([5.16095347e-02, 1.46347237e-05]),\n",
       " array([5.16099864e-02, 1.46338107e-05]),\n",
       " array([5.16104381e-02, 1.46328978e-05]),\n",
       " array([5.16108898e-02, 1.46319850e-05]),\n",
       " array([5.16113415e-02, 1.46310722e-05]),\n",
       " array([5.16117931e-02, 1.46301594e-05]),\n",
       " array([5.16122447e-02, 1.46292467e-05]),\n",
       " array([5.16126963e-02, 1.46283341e-05]),\n",
       " array([5.16131478e-02, 1.46274215e-05]),\n",
       " array([5.16135993e-02, 1.46265090e-05]),\n",
       " array([5.16140508e-02, 1.46255965e-05]),\n",
       " array([5.16145022e-02, 1.46246841e-05]),\n",
       " array([5.16149536e-02, 1.46237718e-05]),\n",
       " array([5.16154050e-02, 1.46228595e-05]),\n",
       " array([5.16158563e-02, 1.46219472e-05]),\n",
       " array([5.16163076e-02, 1.46210350e-05]),\n",
       " array([5.16167589e-02, 1.46201229e-05]),\n",
       " array([5.16172102e-02, 1.46192108e-05]),\n",
       " array([5.16176614e-02, 1.46182987e-05]),\n",
       " array([5.16181126e-02, 1.46173868e-05]),\n",
       " array([5.16185637e-02, 1.46164748e-05]),\n",
       " array([5.16190149e-02, 1.46155630e-05]),\n",
       " array([5.16194660e-02, 1.46146511e-05]),\n",
       " array([5.16199170e-02, 1.46137394e-05]),\n",
       " array([5.16203681e-02, 1.46128277e-05]),\n",
       " array([5.16208191e-02, 1.46119160e-05]),\n",
       " array([5.16212700e-02, 1.46110044e-05]),\n",
       " array([5.16217210e-02, 1.46100929e-05]),\n",
       " array([5.16221719e-02, 1.46091814e-05]),\n",
       " array([5.16226228e-02, 1.46082699e-05]),\n",
       " array([5.16230736e-02, 1.46073586e-05]),\n",
       " array([5.16235244e-02, 1.46064472e-05]),\n",
       " array([5.16239752e-02, 1.46055360e-05]),\n",
       " array([5.16244260e-02, 1.46046247e-05]),\n",
       " array([5.16248767e-02, 1.46037136e-05]),\n",
       " array([5.16253274e-02, 1.46028025e-05]),\n",
       " array([5.16257780e-02, 1.46018914e-05]),\n",
       " array([5.16262287e-02, 1.46009804e-05]),\n",
       " array([5.16266792e-02, 1.46000695e-05]),\n",
       " array([5.16271298e-02, 1.45991586e-05]),\n",
       " array([5.16275803e-02, 1.45982477e-05]),\n",
       " array([5.16280309e-02, 1.45973369e-05]),\n",
       " array([5.16284813e-02, 1.45964262e-05]),\n",
       " array([5.16289318e-02, 1.45955155e-05]),\n",
       " array([5.16293822e-02, 1.45946049e-05]),\n",
       " array([5.16298326e-02, 1.45936943e-05]),\n",
       " array([5.16302829e-02, 1.45927838e-05]),\n",
       " array([5.16307332e-02, 1.45918734e-05]),\n",
       " array([5.16311835e-02, 1.45909630e-05]),\n",
       " array([5.16316338e-02, 1.45900526e-05]),\n",
       " array([5.16320840e-02, 1.45891423e-05]),\n",
       " array([5.16325342e-02, 1.45882321e-05]),\n",
       " array([5.16329843e-02, 1.45873219e-05]),\n",
       " array([5.16334345e-02, 1.45864118e-05]),\n",
       " array([5.16338846e-02, 1.45855017e-05]),\n",
       " array([5.16343346e-02, 1.45845916e-05]),\n",
       " array([5.16347847e-02, 1.45836817e-05]),\n",
       " array([5.16352347e-02, 1.45827718e-05]),\n",
       " array([5.16356847e-02, 1.45818619e-05]),\n",
       " array([5.16361346e-02, 1.45809521e-05]),\n",
       " array([5.16365845e-02, 1.45800423e-05]),\n",
       " array([5.16370344e-02, 1.45791326e-05]),\n",
       " array([5.16374842e-02, 1.45782230e-05]),\n",
       " array([5.16379341e-02, 1.45773134e-05]),\n",
       " array([5.16383839e-02, 1.45764039e-05]),\n",
       " array([5.16388336e-02, 1.45754944e-05]),\n",
       " array([5.16392833e-02, 1.45745850e-05]),\n",
       " array([5.16397330e-02, 1.45736756e-05]),\n",
       " array([5.16401827e-02, 1.45727663e-05]),\n",
       " array([5.16406323e-02, 1.45718570e-05]),\n",
       " array([5.16410819e-02, 1.45709478e-05]),\n",
       " array([5.16415315e-02, 1.45700386e-05]),\n",
       " array([5.16419810e-02, 1.45691295e-05]),\n",
       " array([5.16424306e-02, 1.45682205e-05]),\n",
       " array([5.16428800e-02, 1.45673115e-05]),\n",
       " array([5.16433295e-02, 1.45664025e-05]),\n",
       " array([5.16437789e-02, 1.45654936e-05]),\n",
       " array([5.16442283e-02, 1.45645848e-05]),\n",
       " array([5.16446776e-02, 1.45636760e-05]),\n",
       " array([5.16451270e-02, 1.45627673e-05]),\n",
       " array([5.16455763e-02, 1.45618586e-05]),\n",
       " array([5.16460255e-02, 1.45609500e-05]),\n",
       " array([5.16464747e-02, 1.45600415e-05]),\n",
       " array([5.16469239e-02, 1.45591330e-05]),\n",
       " array([5.16473731e-02, 1.45582245e-05]),\n",
       " array([5.16478222e-02, 1.45573161e-05]),\n",
       " array([5.16482714e-02, 1.45564078e-05]),\n",
       " array([5.16487204e-02, 1.45554995e-05]),\n",
       " array([5.16491695e-02, 1.45545912e-05]),\n",
       " array([5.16496185e-02, 1.45536831e-05]),\n",
       " array([5.16500675e-02, 1.45527749e-05]),\n",
       " array([5.16505164e-02, 1.45518669e-05]),\n",
       " array([5.16509653e-02, 1.45509588e-05]),\n",
       " array([5.16514142e-02, 1.45500509e-05]),\n",
       " array([5.16518631e-02, 1.45491430e-05]),\n",
       " array([5.16523119e-02, 1.45482351e-05]),\n",
       " array([5.16527607e-02, 1.45473273e-05]),\n",
       " array([5.16532095e-02, 1.45464196e-05]),\n",
       " array([5.16536582e-02, 1.45455119e-05]),\n",
       " array([5.16541069e-02, 1.45446042e-05]),\n",
       " array([5.16545556e-02, 1.45436966e-05]),\n",
       " array([5.16550042e-02, 1.45427891e-05]),\n",
       " array([5.16554528e-02, 1.45418816e-05]),\n",
       " array([5.16559014e-02, 1.45409742e-05]),\n",
       " array([5.16563500e-02, 1.45400668e-05]),\n",
       " array([5.16567985e-02, 1.45391595e-05]),\n",
       " array([5.16572470e-02, 1.45382522e-05]),\n",
       " array([5.16576954e-02, 1.45373450e-05]),\n",
       " array([5.16581439e-02, 1.45364379e-05]),\n",
       " array([5.16585922e-02, 1.45355308e-05]),\n",
       " array([5.16590406e-02, 1.45346237e-05]),\n",
       " array([5.16594889e-02, 1.45337168e-05]),\n",
       " array([5.16599372e-02, 1.45328098e-05]),\n",
       " array([5.16603855e-02, 1.45319029e-05]),\n",
       " array([5.16608338e-02, 1.45309961e-05]),\n",
       " array([5.16612820e-02, 1.45300893e-05]),\n",
       " array([5.16617301e-02, 1.45291826e-05]),\n",
       " array([5.16621783e-02, 1.45282759e-05]),\n",
       " array([5.16626264e-02, 1.45273693e-05]),\n",
       " array([5.16630745e-02, 1.45264628e-05]),\n",
       " array([5.16635225e-02, 1.45255563e-05]),\n",
       " array([5.16639706e-02, 1.45246498e-05]),\n",
       " array([5.16644186e-02, 1.45237434e-05]),\n",
       " array([5.16648665e-02, 1.45228371e-05]),\n",
       " array([5.16653144e-02, 1.45219308e-05]),\n",
       " array([5.16657623e-02, 1.45210246e-05]),\n",
       " array([5.16662102e-02, 1.45201184e-05]),\n",
       " array([5.16666581e-02, 1.45192123e-05]),\n",
       " array([5.16671059e-02, 1.45183062e-05]),\n",
       " array([5.16675536e-02, 1.45174002e-05]),\n",
       " array([5.16680014e-02, 1.45164942e-05]),\n",
       " array([5.16684491e-02, 1.45155883e-05]),\n",
       " array([5.16688968e-02, 1.45146824e-05]),\n",
       " array([5.16693444e-02, 1.45137766e-05]),\n",
       " array([5.16697921e-02, 1.45128709e-05]),\n",
       " array([5.16702396e-02, 1.45119652e-05]),\n",
       " array([5.16706872e-02, 1.45110596e-05]),\n",
       " array([5.16711347e-02, 1.45101540e-05]),\n",
       " array([5.16715822e-02, 1.45092485e-05]),\n",
       " array([5.16720297e-02, 1.45083430e-05]),\n",
       " array([5.16724771e-02, 1.45074376e-05]),\n",
       " array([5.16729245e-02, 1.45065322e-05]),\n",
       " array([5.16733719e-02, 1.45056269e-05]),\n",
       " array([5.16738193e-02, 1.45047216e-05]),\n",
       " array([5.16742666e-02, 1.45038164e-05]),\n",
       " array([5.16747138e-02, 1.45029113e-05]),\n",
       " array([5.16751611e-02, 1.45020062e-05]),\n",
       " array([5.16756083e-02, 1.45011011e-05]),\n",
       " array([5.16760555e-02, 1.45001961e-05]),\n",
       " array([5.16765027e-02, 1.44992912e-05]),\n",
       " array([5.16769498e-02, 1.44983863e-05]),\n",
       " array([5.16773969e-02, 1.44974815e-05]),\n",
       " array([5.16778440e-02, 1.44965767e-05]),\n",
       " array([5.1678291e-02, 1.4495672e-05]),\n",
       " array([5.16787380e-02, 1.44947673e-05]),\n",
       " array([5.16791850e-02, 1.44938627e-05]),\n",
       " array([5.16796319e-02, 1.44929582e-05]),\n",
       " array([5.16800788e-02, 1.44920536e-05]),\n",
       " array([5.16805257e-02, 1.44911492e-05]),\n",
       " array([5.16809726e-02, 1.44902448e-05]),\n",
       " array([5.16814194e-02, 1.44893405e-05]),\n",
       " array([5.16818662e-02, 1.44884362e-05]),\n",
       " array([5.16823129e-02, 1.44875319e-05]),\n",
       " array([5.16827596e-02, 1.44866278e-05]),\n",
       " array([5.16832063e-02, 1.44857236e-05]),\n",
       " array([5.16836530e-02, 1.44848196e-05]),\n",
       " array([5.16840996e-02, 1.44839155e-05]),\n",
       " array([5.16845462e-02, 1.44830116e-05]),\n",
       " array([5.16849928e-02, 1.44821077e-05]),\n",
       " array([5.16854394e-02, 1.44812038e-05]),\n",
       " array([5.16858859e-02, 1.44803000e-05]),\n",
       " array([5.16863324e-02, 1.44793963e-05]),\n",
       " array([5.16867788e-02, 1.44784926e-05]),\n",
       " array([5.16872252e-02, 1.44775889e-05]),\n",
       " array([5.16876716e-02, 1.44766853e-05]),\n",
       " array([5.16881180e-02, 1.44757818e-05]),\n",
       " array([5.16885643e-02, 1.44748783e-05]),\n",
       " array([5.16890106e-02, 1.44739749e-05]),\n",
       " array([5.16894569e-02, 1.44730715e-05]),\n",
       " array([5.16899031e-02, 1.44721682e-05]),\n",
       " array([5.16903493e-02, 1.44712650e-05]),\n",
       " array([5.16907955e-02, 1.44703618e-05]),\n",
       " array([5.16912416e-02, 1.44694586e-05]),\n",
       " array([5.16916877e-02, 1.44685555e-05]),\n",
       " array([5.16921338e-02, 1.44676525e-05]),\n",
       " array([5.16925798e-02, 1.44667495e-05]),\n",
       " array([5.16930259e-02, 1.44658465e-05]),\n",
       " array([5.16934719e-02, 1.44649436e-05]),\n",
       " array([5.16939178e-02, 1.44640408e-05]),\n",
       " array([5.16943637e-02, 1.44631380e-05]),\n",
       " array([5.16948096e-02, 1.44622353e-05]),\n",
       " array([5.16952555e-02, 1.44613326e-05]),\n",
       " array([5.16957013e-02, 1.44604300e-05]),\n",
       " array([5.16961471e-02, 1.44595275e-05]),\n",
       " array([5.16965929e-02, 1.44586250e-05]),\n",
       " array([5.16970387e-02, 1.44577225e-05]),\n",
       " array([5.16974844e-02, 1.44568201e-05]),\n",
       " array([5.16979300e-02, 1.44559178e-05]),\n",
       " array([5.16983757e-02, 1.44550155e-05]),\n",
       " array([5.16988213e-02, 1.44541132e-05]),\n",
       " array([5.16992669e-02, 1.44532111e-05]),\n",
       " array([5.16997125e-02, 1.44523089e-05]),\n",
       " array([5.17001580e-02, 1.44514068e-05]),\n",
       " array([5.17006035e-02, 1.44505048e-05]),\n",
       " array([5.17010489e-02, 1.44496029e-05]),\n",
       " array([5.17014944e-02, 1.44487009e-05]),\n",
       " array([5.17019398e-02, 1.44477991e-05]),\n",
       " array([5.17023852e-02, 1.44468973e-05]),\n",
       " array([5.17028305e-02, 1.44459955e-05]),\n",
       " array([5.17032758e-02, 1.44450938e-05]),\n",
       " array([5.17037211e-02, 1.44441922e-05]),\n",
       " array([5.17041663e-02, 1.44432906e-05]),\n",
       " array([5.17046116e-02, 1.44423891e-05]),\n",
       " array([5.17050568e-02, 1.44414876e-05]),\n",
       " array([5.17055019e-02, 1.44405861e-05]),\n",
       " array([5.17059470e-02, 1.44396848e-05]),\n",
       " array([5.17063921e-02, 1.44387834e-05]),\n",
       " array([5.17068372e-02, 1.44378822e-05]),\n",
       " array([5.17072822e-02, 1.44369810e-05]),\n",
       " array([5.17077272e-02, 1.44360798e-05]),\n",
       " array([5.17081722e-02, 1.44351787e-05]),\n",
       " array([5.17086172e-02, 1.44342776e-05]),\n",
       " array([5.17090621e-02, 1.44333766e-05]),\n",
       " array([5.17095070e-02, 1.44324757e-05]),\n",
       " array([5.17099518e-02, 1.44315748e-05]),\n",
       " array([5.17103966e-02, 1.44306740e-05]),\n",
       " array([5.17108414e-02, 1.44297732e-05]),\n",
       " array([5.17112862e-02, 1.44288725e-05]),\n",
       " array([5.17117309e-02, 1.44279718e-05]),\n",
       " array([5.17121756e-02, 1.44270712e-05]),\n",
       " array([5.17126203e-02, 1.44261706e-05]),\n",
       " array([5.17130649e-02, 1.44252701e-05]),\n",
       " array([5.17135095e-02, 1.44243696e-05]),\n",
       " array([5.17139541e-02, 1.44234692e-05]),\n",
       " array([5.17143986e-02, 1.44225689e-05]),\n",
       " array([5.17148432e-02, 1.44216686e-05]),\n",
       " array([5.17152876e-02, 1.44207683e-05]),\n",
       " array([5.17157321e-02, 1.44198681e-05]),\n",
       " array([5.17161765e-02, 1.44189680e-05]),\n",
       " array([5.17166209e-02, 1.44180679e-05]),\n",
       " array([5.17170653e-02, 1.44171679e-05]),\n",
       " array([5.17175096e-02, 1.44162679e-05]),\n",
       " array([5.17179539e-02, 1.44153680e-05]),\n",
       " array([5.17183982e-02, 1.44144681e-05]),\n",
       " array([5.17188424e-02, 1.44135683e-05]),\n",
       " array([5.17192866e-02, 1.44126685e-05]),\n",
       " array([5.17197308e-02, 1.44117688e-05]),\n",
       " array([5.17201750e-02, 1.44108692e-05]),\n",
       " array([5.17206191e-02, 1.44099696e-05]),\n",
       " array([5.17210632e-02, 1.44090700e-05]),\n",
       " array([5.17215072e-02, 1.44081706e-05]),\n",
       " array([5.17219512e-02, 1.44072711e-05]),\n",
       " array([5.17223952e-02, 1.44063717e-05]),\n",
       " array([5.17228392e-02, 1.44054724e-05]),\n",
       " array([5.17232831e-02, 1.44045731e-05]),\n",
       " array([5.17237270e-02, 1.44036739e-05]),\n",
       " array([5.17241709e-02, 1.44027747e-05]),\n",
       " array([5.17246147e-02, 1.44018756e-05]),\n",
       " array([5.17250586e-02, 1.44009766e-05]),\n",
       " array([5.17255023e-02, 1.44000776e-05]),\n",
       " array([5.17259461e-02, 1.43991786e-05]),\n",
       " array([5.17263898e-02, 1.43982797e-05]),\n",
       " array([5.17268335e-02, 1.43973809e-05]),\n",
       " array([5.17272771e-02, 1.43964821e-05]),\n",
       " array([5.17277208e-02, 1.43955833e-05]),\n",
       " array([5.17281644e-02, 1.43946846e-05]),\n",
       " array([5.17286079e-02, 1.43937860e-05]),\n",
       " array([5.17290515e-02, 1.43928874e-05]),\n",
       " array([5.17294950e-02, 1.43919889e-05]),\n",
       " array([5.17299385e-02, 1.43910904e-05]),\n",
       " array([5.17303819e-02, 1.43901920e-05]),\n",
       " array([5.17308253e-02, 1.43892937e-05]),\n",
       " array([5.17312687e-02, 1.43883954e-05]),\n",
       " array([5.17317120e-02, 1.43874971e-05]),\n",
       " array([5.17321554e-02, 1.43865989e-05]),\n",
       " array([5.17325987e-02, 1.43857007e-05]),\n",
       " array([5.17330419e-02, 1.43848027e-05]),\n",
       " array([5.17334852e-02, 1.43839046e-05]),\n",
       " array([5.17339283e-02, 1.43830066e-05]),\n",
       " array([5.17343715e-02, 1.43821087e-05]),\n",
       " array([5.17348147e-02, 1.43812108e-05]),\n",
       " array([5.17352578e-02, 1.43803130e-05]),\n",
       " array([5.17357008e-02, 1.43794152e-05]),\n",
       " array([5.17361439e-02, 1.43785175e-05]),\n",
       " array([5.17365869e-02, 1.43776198e-05]),\n",
       " array([5.17370299e-02, 1.43767222e-05]),\n",
       " array([5.17374728e-02, 1.43758247e-05]),\n",
       " array([5.17379158e-02, 1.43749272e-05]),\n",
       " array([5.17383587e-02, 1.43740297e-05]),\n",
       " array([5.17388015e-02, 1.43731323e-05]),\n",
       " array([5.17392444e-02, 1.43722350e-05]),\n",
       " array([5.17396872e-02, 1.43713377e-05]),\n",
       " array([5.17401299e-02, 1.43704405e-05]),\n",
       " array([5.17405727e-02, 1.43695433e-05]),\n",
       " array([5.17410154e-02, 1.43686462e-05]),\n",
       " array([5.17414581e-02, 1.43677491e-05]),\n",
       " array([5.17419007e-02, 1.43668521e-05]),\n",
       " array([5.17423433e-02, 1.43659551e-05]),\n",
       " array([5.17427859e-02, 1.43650582e-05]),\n",
       " array([5.17432285e-02, 1.43641613e-05]),\n",
       " array([5.17436710e-02, 1.43632645e-05]),\n",
       " array([5.17441135e-02, 1.43623678e-05]),\n",
       " array([5.17445560e-02, 1.43614711e-05]),\n",
       " array([5.17449984e-02, 1.43605744e-05]),\n",
       " array([5.17454408e-02, 1.43596778e-05]),\n",
       " array([5.17458832e-02, 1.43587813e-05]),\n",
       " array([5.17463256e-02, 1.43578848e-05]),\n",
       " array([5.17467679e-02, 1.43569884e-05]),\n",
       " array([5.17472102e-02, 1.43560920e-05]),\n",
       " array([5.17476524e-02, 1.43551957e-05]),\n",
       " array([5.17480946e-02, 1.43542994e-05]),\n",
       " array([5.17485368e-02, 1.43534032e-05]),\n",
       " array([5.1748979e-02, 1.4352507e-05]),\n",
       " array([5.17494211e-02, 1.43516109e-05]),\n",
       " array([5.17498632e-02, 1.43507149e-05]),\n",
       " array([5.17503053e-02, 1.43498189e-05]),\n",
       " array([5.17507473e-02, 1.43489229e-05]),\n",
       " array([5.17511893e-02, 1.43480270e-05]),\n",
       " array([5.17516313e-02, 1.43471312e-05])]"
      ]
     },
     "execution_count": 24,
     "metadata": {},
     "output_type": "execute_result"
    }
   ],
   "source": [
    "lam"
   ]
  },
  {
   "cell_type": "code",
   "execution_count": 7,
   "id": "27341ff5",
   "metadata": {},
   "outputs": [
    {
     "data": {
      "text/plain": [
       "[3]"
      ]
     },
     "execution_count": 7,
     "metadata": {},
     "output_type": "execute_result"
    }
   ],
   "source": [
    "a = [1,2,3]\n",
    "a[-1:]"
   ]
  },
  {
   "cell_type": "code",
   "execution_count": null,
   "id": "4213392d",
   "metadata": {},
   "outputs": [],
   "source": []
  },
  {
   "cell_type": "code",
   "execution_count": 14,
   "id": "aaa72a2b",
   "metadata": {},
   "outputs": [
    {
     "data": {
      "text/plain": [
       "dS    0.000000\n",
       "dN   -1.163086\n",
       "Name: 1000, dtype: float64"
      ]
     },
     "execution_count": 14,
     "metadata": {},
     "output_type": "execute_result"
    }
   ],
   "source": [
    "ds_d0.iloc[-1]"
   ]
  },
  {
   "cell_type": "code",
   "execution_count": 16,
   "id": "1782bda5",
   "metadata": {},
   "outputs": [
    {
     "data": {
      "text/plain": [
       "S     50.000000\n",
       "N    991.174924\n",
       "Name: 1000, dtype: float64"
      ]
     },
     "execution_count": 16,
     "metadata": {},
     "output_type": "execute_result"
    }
   ],
   "source": [
    "s_"
   ]
  },
  {
   "cell_type": "code",
   "execution_count": 14,
   "id": "7af3d91d",
   "metadata": {},
   "outputs": [],
   "source": [
    "p['d0']=0.001\n",
    "l_d0,s_d0,ds_d0 = ld.iterate(1000,s,p, verbose = False, dt=0.001)\n",
    "s_ = s_d0.iloc[-1]\n",
    "p['d0'] = 0.6/780\n",
    "l_d0_,s_d0_,ds_d0_ = ld.iterate(10,s_,p, verbose = False, dt=0.001, l = l_d0[-1], ds = ds_d0.iloc[-1])"
   ]
  },
  {
   "cell_type": "code",
   "execution_count": 12,
   "id": "8195ce0e",
   "metadata": {},
   "outputs": [
    {
     "data": {
      "text/plain": [
       "[<matplotlib.lines.Line2D at 0x271f3f8e6d0>]"
      ]
     },
     "execution_count": 12,
     "metadata": {},
     "output_type": "execute_result"
    },
    {
     "data": {
      "image/png": "[encoded data removed]",
      "text/plain": [
       "<Figure size 432x288 with 1 Axes>"
      ]
     },
     "metadata": {
      "needs_background": "light"
     },
     "output_type": "display_data"
    }
   ],
   "source": [
    "plt.plot(list(s_d0['N'])+list(s_d0_['N']))\n",
    "#plt.plot(list(l_d0) + list(l_d0_))\n",
    "#plt.plot(list(1000 * (1-l_d0[:,1])) + list(1000 * (1-l_d0_[:,1])))\n"
   ]
  },
  {
   "cell_type": "code",
   "execution_count": 20,
   "id": "85051370",
   "metadata": {},
   "outputs": [
    {
     "data": {
      "text/plain": [
       "(array([22973], dtype=int64),)"
      ]
     },
     "execution_count": 20,
     "metadata": {},
     "output_type": "execute_result"
    }
   ],
   "source": [
    "c = s_d0_['N'] - 1000 * (1-l_d0_[:,1])\n",
    "np.where(c**2 == min(c**2))"
   ]
  },
  {
   "cell_type": "code",
   "execution_count": 26,
   "id": "ced77c63",
   "metadata": {},
   "outputs": [
    {
     "name": "stdout",
     "output_type": "stream",
     "text": [
      "1004.5685821544506\n",
      "0.0510147541271005\n"
     ]
    }
   ],
   "source": [
    "print(s_d0_['N'][81640])\n",
    "print(l_d0_[:,0][81640])"
   ]
  },
  {
   "cell_type": "code",
   "execution_count": 8,
   "id": "771054ec",
   "metadata": {},
   "outputs": [
    {
     "data": {
      "text/plain": [
       "[<matplotlib.lines.Line2D at 0x1e006330640>]"
      ]
     },
     "execution_count": 8,
     "metadata": {},
     "output_type": "execute_result"
    },
    {
     "data": {
      "image/png": "[encoded data removed]",
      "text/plain": [
       "<Figure size 432x288 with 1 Axes>"
      ]
     },
     "metadata": {
      "needs_background": "light"
     },
     "output_type": "display_data"
    }
   ],
   "source": [
    "plt.plot(list(s_d0_['N'][81000:82000]))\n",
    "plt.plot(list((1000 * (1-l_d0_[:,1])))[81000:82000])"
   ]
  },
  {
   "cell_type": "code",
   "execution_count": 19,
   "id": "0c788bc8",
   "metadata": {},
   "outputs": [
    {
     "data": {
      "text/plain": [
       "[<matplotlib.lines.Line2D at 0x1e00f67feb0>]"
      ]
     },
     "execution_count": 19,
     "metadata": {},
     "output_type": "execute_result"
    },
    {
     "data": {
      "image/png": "[encoded data removed]",
      "text/plain": [
       "<Figure size 432x288 with 1 Axes>"
      ]
     },
     "metadata": {
      "needs_background": "light"
     },
     "output_type": "display_data"
    }
   ],
   "source": [
    "plt.plot(list(l_d0[:,0]) + list(l_d0_[:,0]))\n"
   ]
  },
  {
   "cell_type": "code",
   "execution_count": 25,
   "id": "ad633422",
   "metadata": {},
   "outputs": [
    {
     "name": "stdout",
     "output_type": "stream",
     "text": [
      "Non exact parameters\n"
     ]
    },
    {
     "data": {
      "text/plain": [
       "b0       0.030000\n",
       "d0       0.000769\n",
       "Nc    1000.000000\n",
       "dtype: float64"
      ]
     },
     "metadata": {},
     "output_type": "display_data"
    },
    {
     "data": {
      "text/plain": [
       "dS    0.000000e+00\n",
       "dN    8.021310e-16\n",
       "dtype: float64"
      ]
     },
     "metadata": {},
     "output_type": "display_data"
    },
    {
     "name": "stdout",
     "output_type": "stream",
     "text": [
      "Exact parameters\n"
     ]
    },
    {
     "data": {
      "text/plain": [
       "b0       0.030000\n",
       "d0       0.000769\n",
       "Nc    1000.000000\n",
       "dtype: float64"
      ]
     },
     "metadata": {},
     "output_type": "display_data"
    },
    {
     "data": {
      "text/plain": [
       "dS    0.000000e+00\n",
       "dN    8.021310e-16\n",
       "dtype: float64"
      ]
     },
     "metadata": {},
     "output_type": "display_data"
    }
   ],
   "source": [
    "# Set up unperturbed parameters\n",
    "\n",
    "# state variables\n",
    "s = pd.Series(np.array([50, 1000]), index=['S','N']) #'S' = array.item(0), 'N' is array.item(1)\n",
    "\n",
    "# parameters. We will derive the precise ones below\n",
    "p_d = np.array([0.03,0.6/780, s['N']]) #s['N'] gives us array.item(1) (array is the first argument to pd.Series)\n",
    "p = pd.Series(p_d,index=['b0','d0','Nc']) #to assign the birth rate, unperturbed death rate, and carrying capacity\n",
    "\n",
    "# To get precise parameters\n",
    "pp = ld.get_ss_params(s,p)\n",
    "\n",
    "# Initial lambdas\n",
    "li = rf.lambda_i(s)\n",
    "# Display parameters and show derivatives are close enough to zero. (-900/2.5*10^5 is still small)\n",
    "print(\"Non exact parameters\")\n",
    "display(p)\n",
    "display(rf.get_dXdt(li,s,p))\n",
    "print(\"Exact parameters\")\n",
    "display(pp)\n",
    "display(rf.get_dXdt(li,s,pp))"
   ]
  },
  {
   "cell_type": "code",
   "execution_count": 11,
   "id": "0822629f",
   "metadata": {},
   "outputs": [
    {
     "name": "stdout",
     "output_type": "stream",
     "text": [
      "a\n"
     ]
    }
   ],
   "source": [
    "p['d0']=0.001\n",
    "l_d02,s_d02,ds_d02 = ld.iterate(10000,s,p, verbose = False, dt=0.0001)\n",
    "print('a')\n",
    "s_2 = s_d02.iloc[-1]\n",
    "p['d0'] = 0.6/780\n",
    "l_d0_2,s_d0_2,ds_d0_2 = ld.iterate(2*10**6,s_2,p, verbose = False, dt=0.0001, l = l_d02[-1], ds = ds_d02.iloc[-1])"
   ]
  },
  {
   "cell_type": "code",
   "execution_count": 28,
   "id": "25d0b949",
   "metadata": {},
   "outputs": [
    {
     "data": {
      "text/plain": [
       "(array([229521], dtype=int64),)"
      ]
     },
     "execution_count": 28,
     "metadata": {},
     "output_type": "execute_result"
    }
   ],
   "source": [
    "c = s_d0_2['N'] - 1000 * (1-l_d0_2[:,1])\n",
    "np.where(c**2 == min(c**2))"
   ]
  },
  {
   "cell_type": "code",
   "execution_count": 32,
   "id": "3a44176b",
   "metadata": {},
   "outputs": [
    {
     "data": {
      "text/plain": [
       "-5.366661412153917e-06"
      ]
     },
     "execution_count": 32,
     "metadata": {},
     "output_type": "execute_result"
    }
   ],
   "source": [
    "c[229521]"
   ]
  },
  {
   "cell_type": "code",
   "execution_count": 34,
   "id": "b30cb372",
   "metadata": {},
   "outputs": [
    {
     "name": "stdout",
     "output_type": "stream",
     "text": [
      "1004.5680425235844\n",
      "-0.00977019536468681\n"
     ]
    }
   ],
   "source": [
    "print(s_d0_2['N'][816093])\n",
    "print(l_d0_2[:,][816093])"
   ]
  },
  {
   "cell_type": "code",
   "execution_count": 27,
   "id": "2bf7f248",
   "metadata": {},
   "outputs": [
    {
     "data": {
      "text/plain": [
       "[<matplotlib.lines.Line2D at 0x1e00639ed00>]"
      ]
     },
     "execution_count": 27,
     "metadata": {},
     "output_type": "execute_result"
    },
    {
     "data": {
      "image/png": "[encoded data removed]",
      "text/plain": [
       "<Figure size 432x288 with 1 Axes>"
      ]
     },
     "metadata": {
      "needs_background": "light"
     },
     "output_type": "display_data"
    }
   ],
   "source": [
    "plt.plot(list(s_d02['N'])[1:]+list(s_d0_2['N'])[1:])\n",
    "#plt.plot(list(1000 * (1-l_d02[:,1]))[1:] + list(1000 * (1-l_d0_2[:,1]))[1:])"
   ]
  },
  {
   "cell_type": "code",
   "execution_count": 16,
   "id": "e6a0d91b",
   "metadata": {},
   "outputs": [
    {
     "data": {
      "text/plain": [
       "[<matplotlib.lines.Line2D at 0x1e01718c670>]"
      ]
     },
     "execution_count": 16,
     "metadata": {},
     "output_type": "execute_result"
    },
    {
     "data": {
      "image/png": "[encoded data removed]",
      "text/plain": [
       "<Figure size 432x288 with 1 Axes>"
      ]
     },
     "metadata": {
      "needs_background": "light"
     },
     "output_type": "display_data"
    }
   ],
   "source": [
    "plt.plot(list(l_d02[:,0]) + list(l_d0_2[:,0]))"
   ]
  },
  {
   "cell_type": "code",
   "execution_count": 17,
   "id": "4a51c0b9",
   "metadata": {},
   "outputs": [
    {
     "data": {
      "text/plain": [
       "[<matplotlib.lines.Line2D at 0x1e083b7bfa0>]"
      ]
     },
     "execution_count": 17,
     "metadata": {},
     "output_type": "execute_result"
    },
    {
     "data": {
      "image/png": "[encoded data removed]",
      "text/plain": [
       "<Figure size 432x288 with 1 Axes>"
      ]
     },
     "metadata": {
      "needs_background": "light"
     },
     "output_type": "display_data"
    }
   ],
   "source": [
    "plt.plot(list(l_d02[:,0]) + list(l_d0_2[:,0]))"
   ]
  },
  {
   "cell_type": "code",
   "execution_count": 47,
   "id": "2ab30e0a",
   "metadata": {},
   "outputs": [
    {
     "ename": "MemoryError",
     "evalue": "",
     "output_type": "error",
     "traceback": [
      "\u001b[1;31m---------------------------------------------------------------------------\u001b[0m",
      "\u001b[1;31mMemoryError\u001b[0m                               Traceback (most recent call last)",
      "\u001b[1;32m<ipython-input-47-3bc444b304d4>\u001b[0m in \u001b[0;36m<module>\u001b[1;34m\u001b[0m\n\u001b[1;32m----> 1\u001b[1;33m \u001b[0mb\u001b[0m \u001b[1;33m=\u001b[0m \u001b[1;33m[\u001b[0m\u001b[0mi\u001b[0m \u001b[1;32mfor\u001b[0m \u001b[0mi\u001b[0m \u001b[1;32min\u001b[0m \u001b[0mrange\u001b[0m\u001b[1;33m(\u001b[0m\u001b[1;36m10\u001b[0m\u001b[1;33m**\u001b[0m\u001b[1;36m9\u001b[0m\u001b[1;33m)\u001b[0m\u001b[1;33m]\u001b[0m\u001b[1;33m\u001b[0m\u001b[1;33m\u001b[0m\u001b[0m\n\u001b[0m",
      "\u001b[1;32m<ipython-input-47-3bc444b304d4>\u001b[0m in \u001b[0;36m<listcomp>\u001b[1;34m(.0)\u001b[0m\n\u001b[1;32m----> 1\u001b[1;33m \u001b[0mb\u001b[0m \u001b[1;33m=\u001b[0m \u001b[1;33m[\u001b[0m\u001b[0mi\u001b[0m \u001b[1;32mfor\u001b[0m \u001b[0mi\u001b[0m \u001b[1;32min\u001b[0m \u001b[0mrange\u001b[0m\u001b[1;33m(\u001b[0m\u001b[1;36m10\u001b[0m\u001b[1;33m**\u001b[0m\u001b[1;36m9\u001b[0m\u001b[1;33m)\u001b[0m\u001b[1;33m]\u001b[0m\u001b[1;33m\u001b[0m\u001b[1;33m\u001b[0m\u001b[0m\n\u001b[0m",
      "\u001b[1;31mMemoryError\u001b[0m: "
     ]
    }
   ],
   "source": [
    "b = [i for i in range(10**9)]"
   ]
  },
  {
   "cell_type": "code",
   "execution_count": 6,
   "id": "4fe5129a",
   "metadata": {},
   "outputs": [],
   "source": [
    "import sympy as sp"
   ]
  },
  {
   "cell_type": "code",
   "execution_count": 17,
   "id": "62532695",
   "metadata": {},
   "outputs": [],
   "source": [
    "x = sp.Symbol('x')\n",
    "t = sp.Symbol('t')"
   ]
  },
  {
   "cell_type": "code",
   "execution_count": 18,
   "id": "5b32bd83",
   "metadata": {},
   "outputs": [],
   "source": [
    "a = x * 2**(1/3)\n",
    "b = 2**(1/2)"
   ]
  },
  {
   "cell_type": "code",
   "execution_count": 19,
   "id": "8f442586",
   "metadata": {},
   "outputs": [],
   "source": [
    "f = x**3 - 2\n",
    "g = x**2 - 2*t*x+t**2-2\n"
   ]
  },
  {
   "cell_type": "code",
   "execution_count": 23,
   "id": "ab6ae3c6",
   "metadata": {},
   "outputs": [
    {
     "ename": "AttributeError",
     "evalue": "'Add' object has no attribute 'eval'",
     "output_type": "error",
     "traceback": [
      "\u001b[1;31m---------------------------------------------------------------------------\u001b[0m",
      "\u001b[1;31mAttributeError\u001b[0m                            Traceback (most recent call last)",
      "\u001b[1;32m<ipython-input-23-f2f16462f087>\u001b[0m in \u001b[0;36m<module>\u001b[1;34m\u001b[0m\n\u001b[1;32m----> 1\u001b[1;33m \u001b[0mf\u001b[0m\u001b[1;33m/\u001b[0m\u001b[0mg\u001b[0m\u001b[1;33m.\u001b[0m\u001b[0meval\u001b[0m\u001b[1;33m(\u001b[0m\u001b[1;33m)\u001b[0m\u001b[1;33m\u001b[0m\u001b[1;33m\u001b[0m\u001b[0m\n\u001b[0m",
      "\u001b[1;31mAttributeError\u001b[0m: 'Add' object has no attribute 'eval'"
     ]
    }
   ],
   "source": [
    "f/g.eval()"
   ]
  },
  {
   "cell_type": "code",
   "execution_count": null,
   "id": "85c6a302",
   "metadata": {},
   "outputs": [],
   "source": []
  }
 ],
 "metadata": {
  "kernelspec": {
   "display_name": "Python 3",
   "language": "python",
   "name": "python3"
  },
  "language_info": {
   "codemirror_mode": {
    "name": "ipython",
    "version": 3
   },
   "file_extension": ".py",
   "mimetype": "text/x-python",
   "name": "python",
   "nbconvert_exporter": "python",
   "pygments_lexer": "ipython3",
   "version": "3.8.8"
  }
 },
 "nbformat": 4,
 "nbformat_minor": 5
}
