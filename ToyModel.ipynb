{
 "cells": [
  {
   "cell_type": "code",
   "execution_count": 49,
   "id": "1601cf32",
   "metadata": {},
   "outputs": [],
   "source": [
    "import numpy as np\n",
    "import pandas as pd\n",
    "import lambda_dynamics_ToyModel as ld\n",
    "from importlib import reload\n",
    "reload(ld)\n",
    "import DynaMETE_Rfunctions_ToyModel as rf\n",
    "import matplotlib.pyplot as plt\n",
    "import brute_force_ToyModel as bf\n",
    "reload(bf)\n",
    "%matplotlib inline"
   ]
  },
  {
   "cell_type": "code",
   "execution_count": 50,
   "id": "ceb7c9fd",
   "metadata": {},
   "outputs": [
    {
     "name": "stdout",
     "output_type": "stream",
     "text": [
      "Non exact parameters\n"
     ]
    },
    {
     "data": {
      "text/plain": [
       "b0       0.059\n",
       "d0       0.020\n",
       "Nc    1000.000\n",
       "Sc      50.000\n",
       "dtype: float64"
      ]
     },
     "metadata": {},
     "output_type": "display_data"
    },
    {
     "data": {
      "text/plain": [
       "dS    0.000000e+00\n",
       "dN   -2.216912e-15\n",
       "dtype: float64"
      ]
     },
     "metadata": {},
     "output_type": "display_data"
    },
    {
     "name": "stdout",
     "output_type": "stream",
     "text": [
      "Exact parameters\n"
     ]
    },
    {
     "data": {
      "text/plain": [
       "b0       0.059\n",
       "d0       0.020\n",
       "Nc    1000.000\n",
       "Sc      50.000\n",
       "dtype: float64"
      ]
     },
     "metadata": {},
     "output_type": "display_data"
    },
    {
     "data": {
      "text/plain": [
       "dS    0.000000e+00\n",
       "dN    1.582361e-15\n",
       "dtype: float64"
      ]
     },
     "metadata": {},
     "output_type": "display_data"
    }
   ],
   "source": [
    "# Set up unperturbed parameters\n",
    "\n",
    "# state variables\n",
    "s = pd.Series(np.array([50, 1000]), index=['S','N']) #'S' = array.item(0), 'N' is array.item(1)\n",
    "\n",
    "# parameters. We will derive the precise ones below\n",
    "#D0 is D1 in the Apendix doc. D0 is hardcoded into R functions.\n",
    "p_d = np.array([0.059,0.02, s['N'], s['S']]) #s['N'] gives us array.item(1) (array is the first argument to pd.Series)\n",
    "p = pd.Series(p_d,index=['b0','d0','Nc', 'Sc']) #to assign the birth rate, unperturbed death rate, and carrying capacity\n",
    "\n",
    "# To get precise parameters\n",
    "pp = ld.get_ss_params(s,p)\n",
    "\n",
    "# Initial lambdas\n",
    "li = rf.lambda_i(s)\n",
    "# Display parameters and show derivatives are close enough to zero. (-900/2.5*10^5 is still small)\n",
    "print(\"Non exact parameters\")\n",
    "display(p)\n",
    "display(rf.get_dXdt(li,s,p))\n",
    "print(\"Exact parameters\")\n",
    "display(pp)\n",
    "display(rf.get_dXdt(li,s,pp))"
   ]
  },
  {
   "cell_type": "code",
   "execution_count": 142,
   "id": "bc203dd8",
   "metadata": {},
   "outputs": [],
   "source": [
    "import brute_force_ToyModel as bf\n",
    "reload(bf)\n",
    "import brute_force_ToyModel as bf\n",
    "import DynaMETE_Rfunctions_ToyModel as rf\n",
    "reload(rf)\n",
    "import DynaMETE_Rfunctions_ToyModel as rf\n",
    "import lambda_dynamics_ToyModel as ld\n",
    "from importlib import reload\n",
    "reload(ld)\n",
    "\n",
    "\n",
    "\n",
    "def BruteForce(l, s, p, time, dt=0.015):\n",
    "    ret = []\n",
    "    lam = []\n",
    "    ds = np.array([])\n",
    "    counter = 0\n",
    "    c = 0\n",
    "    p['d0'] = l[0]\n",
    "    prev_d = l[0]\n",
    "    counter = 0\n",
    "    for i in l:\n",
    "        d_d = prev_d - i\n",
    "        prev_d = i\n",
    "        if(len(ret) > 0):\n",
    "            print(ret[-1])\n",
    "        for j in range(1):\n",
    "            p['d0'] = i\n",
    "            if(counter > 0):\n",
    "                l_d0,s_d0,ds_d0 = bf.iterate(time[c],s,p,i-l[counter-1], dt=dt, verbose = False, l0 = last_lambda, ds0 = last_d0)\n",
    "            else:\n",
    "                l_d0,s_d0,ds_d0 = bf.iterate(time[c],s,p,0, dt=dt, verbose = False)\n",
    "            s = s_d0.iloc[-1]\n",
    "            ret += list(s_d0['N'][1:])\n",
    "      \n",
    "            lam += list(l_d0[1:])\n",
    "            last_lambda = l_d0[-1]\n",
    "\n",
    "            last_d0 = ds_d0.iloc[-1]\n",
    "            ds = np.append(ds, np.array(ds_d0['dN'][1:]))\n",
    "            counter += 1\n",
    "        c += 1\n",
    "    \n",
    "    \n",
    "    \n",
    "    return ret,lam, ds\n",
    "        "
   ]
  },
  {
   "cell_type": "code",
   "execution_count": 143,
   "id": "6d334f4a",
   "metadata": {},
   "outputs": [],
   "source": [
    "def Lambda(l, s, p, time, dt=0.015):\n",
    "    ret = []\n",
    "    lam = []\n",
    "    ds = np.array([])\n",
    "    counter = 0\n",
    "    c = 0\n",
    "    p['d0'] = l[0]\n",
    "    prev_d = l[0]\n",
    "    counter = 0\n",
    "    for i in l:\n",
    "        d_d = prev_d - i\n",
    "        prev_d = i\n",
    "        if(len(ret) > 0):\n",
    "            print(ret[-1])\n",
    "        for j in range(1):\n",
    "            p['d0'] = i\n",
    "            if(counter > 0):\n",
    "                l_d0,s_d0,ds_d0 = ld.iterate(time[c],s,p, dt, d_d = i-l[c-1], verbose = False, l = last_lambda, ds = last_d0)\n",
    "            else:\n",
    "                l_d0,s_d0,ds_d0 = ld.iterate(time[c],s,p, dt, verbose = False)\n",
    "            s = s_d0.iloc[-1]\n",
    "            ret += list(s_d0['N'][1:])\n",
    "      \n",
    "            lam += list(l_d0[1:])\n",
    "            last_lambda = l_d0[-1]\n",
    "\n",
    "            last_d0 = ds_d0.iloc[-1]\n",
    "            ds = np.append(ds, np.array(ds_d0['dN'][1:]))\n",
    "            counter += 1\n",
    "        c += 1\n",
    "    \n",
    "    \n",
    "    \n",
    "    return ret,lam, ds"
   ]
  },
  {
   "cell_type": "code",
   "execution_count": 144,
   "id": "7439acf5",
   "metadata": {
    "scrolled": true
   },
   "outputs": [
    {
     "name": "stdout",
     "output_type": "stream",
     "text": [
      "1000.0\n"
     ]
    },
    {
     "data": {
      "text/plain": [
       "[<matplotlib.lines.Line2D at 0x1f332cc9f10>]"
      ]
     },
     "execution_count": 144,
     "metadata": {},
     "output_type": "execute_result"
    },
    {
     "data": {
      "image/png": "[encoded data removed]",
      "text/plain": [
       "<Figure size 640x480 with 1 Axes>"
      ]
     },
     "metadata": {},
     "output_type": "display_data"
    }
   ],
   "source": [
    "#Change Death Rate\n",
    "#Will print out value of N every time D0 is changed\n",
    "#Plots N then La\n",
    "\n",
    "#The first argument in Lambda is what values of D should be cycled through. The second is how long it should be at that value.\n",
    "#Here, D is set to 0.02 for 1 iteration, and 0.025 for 10000.\n",
    "times = [1,10000]\n",
    "a,b, c = Lambda([0.02,0.022], s, pp, times, dt=0.1)\n",
    "plt.plot(a)\n",
    "#Returns N, Lambdas, Derivatives\n",
    "#2 minutes"
   ]
  },
  {
   "cell_type": "code",
   "execution_count": 145,
   "id": "41adfd73",
   "metadata": {},
   "outputs": [
    {
     "name": "stdout",
     "output_type": "stream",
     "text": [
      "1000.0\n"
     ]
    },
    {
     "data": {
      "text/plain": [
       "[<matplotlib.lines.Line2D at 0x1f32cdfd590>]"
      ]
     },
     "execution_count": 145,
     "metadata": {},
     "output_type": "execute_result"
    },
    {
     "data": {
      "image/png": "[encoded data removed]",
      "text/plain": [
       "<Figure size 640x480 with 1 Axes>"
      ]
     },
     "metadata": {},
     "output_type": "display_data"
    }
   ],
   "source": [
    "#Change Death Rate\n",
    "#Will print out value of N every time D0 is changed\n",
    "#Plots N then La\n",
    "times = [1,10000]\n",
    "a_,b_, c_ = BruteForce([0.02,0.022], s, pp, times, dt=0.1)\n",
    "plt.plot(a_)\n",
    "#Returns N, Lambdas, Derivatives"
   ]
  }
 ],
 "metadata": {
  "kernelspec": {
   "display_name": "Python 3 (ipykernel)",
   "language": "python",
   "name": "python3"
  },
  "language_info": {
   "codemirror_mode": {
    "name": "ipython",
    "version": 3
   },
   "file_extension": ".py",
   "mimetype": "text/x-python",
   "name": "python",
   "nbconvert_exporter": "python",
   "pygments_lexer": "ipython3",
   "version": "3.11.3"
  }
 },
 "nbformat": 4,
 "nbformat_minor": 5
}
